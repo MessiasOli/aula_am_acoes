{
 "cells": [
  {
   "cell_type": "markdown",
   "metadata": {},
   "source": [
    "Analise dos dados."
   ]
  },
  {
   "cell_type": "code",
   "execution_count": 1,
   "metadata": {},
   "outputs": [],
   "source": [
    "import pandas as pd\n",
    "import csv"
   ]
  },
  {
   "cell_type": "code",
   "execution_count": 2,
   "metadata": {},
   "outputs": [
    {
     "name": "stdout",
     "output_type": "stream",
     "text": [
      "  Situação   Valor de M.   LPA    VPA    P/L  EV/EBITDA  Dividend Yield  \\\n",
      "0     ruim  1.334627e+09  0.57  36.03  24.71        NaN            0.85   \n",
      "1      boa  1.519060e+10  0.18   0.80  14.92        NaN           15.27   \n",
      "2     ruim  9.465319e+07  0.16   2.07  31.55        NaN            2.98   \n",
      "3     ruim  2.819886e+08  0.21   1.23  21.69        NaN            4.25   \n",
      "4     ruim  2.887665e+08  0.60  10.42   5.65        NaN             NaN   \n",
      "\n",
      "   Margem Bruta  Margem EBITDA  Margem Liquida    ROE   ROA  \\\n",
      "0           NaN            NaN          0.0648  20.66   NaN   \n",
      "1         87.95          61.43         34.6900  37.00  20.0   \n",
      "2           NaN            NaN         38.1500  25.00   NaN   \n",
      "3           NaN            NaN         56.0000  22.00   NaN   \n",
      "4           NaN            NaN        157.4500   6.00   NaN   \n",
      "\n",
      "   Div Liquida/EBITDA  Liq. Corrente  \n",
      "0                 NaN           1.02  \n",
      "1                2.03           0.94  \n",
      "2                 NaN           1.50  \n",
      "3                 NaN          10.57  \n",
      "4                 NaN           1.00  \n"
     ]
    },
    {
     "data": {
      "text/html": [
       "<div>\n",
       "<style scoped>\n",
       "    .dataframe tbody tr th:only-of-type {\n",
       "        vertical-align: middle;\n",
       "    }\n",
       "\n",
       "    .dataframe tbody tr th {\n",
       "        vertical-align: top;\n",
       "    }\n",
       "\n",
       "    .dataframe thead th {\n",
       "        text-align: right;\n",
       "    }\n",
       "</style>\n",
       "<table border=\"1\" class=\"dataframe\">\n",
       "  <thead>\n",
       "    <tr style=\"text-align: right;\">\n",
       "      <th></th>\n",
       "      <th>Situação</th>\n",
       "      <th>Valor de M.</th>\n",
       "      <th>LPA</th>\n",
       "      <th>VPA</th>\n",
       "      <th>P/L</th>\n",
       "      <th>EV/EBITDA</th>\n",
       "      <th>Dividend Yield</th>\n",
       "      <th>Margem Bruta</th>\n",
       "      <th>Margem EBITDA</th>\n",
       "      <th>Margem Liquida</th>\n",
       "      <th>ROE</th>\n",
       "      <th>ROA</th>\n",
       "      <th>Div Liquida/EBITDA</th>\n",
       "      <th>Liq. Corrente</th>\n",
       "    </tr>\n",
       "  </thead>\n",
       "  <tbody>\n",
       "    <tr>\n",
       "      <th>0</th>\n",
       "      <td>ruim</td>\n",
       "      <td>1.334627e+09</td>\n",
       "      <td>0.57</td>\n",
       "      <td>36.03</td>\n",
       "      <td>24.71</td>\n",
       "      <td>NaN</td>\n",
       "      <td>0.85</td>\n",
       "      <td>NaN</td>\n",
       "      <td>NaN</td>\n",
       "      <td>0.0648</td>\n",
       "      <td>20.66</td>\n",
       "      <td>NaN</td>\n",
       "      <td>NaN</td>\n",
       "      <td>1.02</td>\n",
       "    </tr>\n",
       "    <tr>\n",
       "      <th>1</th>\n",
       "      <td>boa</td>\n",
       "      <td>1.519060e+10</td>\n",
       "      <td>0.18</td>\n",
       "      <td>0.80</td>\n",
       "      <td>14.92</td>\n",
       "      <td>NaN</td>\n",
       "      <td>15.27</td>\n",
       "      <td>87.95</td>\n",
       "      <td>61.43</td>\n",
       "      <td>34.6900</td>\n",
       "      <td>37.00</td>\n",
       "      <td>20.0</td>\n",
       "      <td>2.03</td>\n",
       "      <td>0.94</td>\n",
       "    </tr>\n",
       "    <tr>\n",
       "      <th>2</th>\n",
       "      <td>ruim</td>\n",
       "      <td>9.465319e+07</td>\n",
       "      <td>0.16</td>\n",
       "      <td>2.07</td>\n",
       "      <td>31.55</td>\n",
       "      <td>NaN</td>\n",
       "      <td>2.98</td>\n",
       "      <td>NaN</td>\n",
       "      <td>NaN</td>\n",
       "      <td>38.1500</td>\n",
       "      <td>25.00</td>\n",
       "      <td>NaN</td>\n",
       "      <td>NaN</td>\n",
       "      <td>1.50</td>\n",
       "    </tr>\n",
       "    <tr>\n",
       "      <th>3</th>\n",
       "      <td>ruim</td>\n",
       "      <td>2.819886e+08</td>\n",
       "      <td>0.21</td>\n",
       "      <td>1.23</td>\n",
       "      <td>21.69</td>\n",
       "      <td>NaN</td>\n",
       "      <td>4.25</td>\n",
       "      <td>NaN</td>\n",
       "      <td>NaN</td>\n",
       "      <td>56.0000</td>\n",
       "      <td>22.00</td>\n",
       "      <td>NaN</td>\n",
       "      <td>NaN</td>\n",
       "      <td>10.57</td>\n",
       "    </tr>\n",
       "    <tr>\n",
       "      <th>4</th>\n",
       "      <td>ruim</td>\n",
       "      <td>2.887665e+08</td>\n",
       "      <td>0.60</td>\n",
       "      <td>10.42</td>\n",
       "      <td>5.65</td>\n",
       "      <td>NaN</td>\n",
       "      <td>NaN</td>\n",
       "      <td>NaN</td>\n",
       "      <td>NaN</td>\n",
       "      <td>157.4500</td>\n",
       "      <td>6.00</td>\n",
       "      <td>NaN</td>\n",
       "      <td>NaN</td>\n",
       "      <td>1.00</td>\n",
       "    </tr>\n",
       "    <tr>\n",
       "      <th>...</th>\n",
       "      <td>...</td>\n",
       "      <td>...</td>\n",
       "      <td>...</td>\n",
       "      <td>...</td>\n",
       "      <td>...</td>\n",
       "      <td>...</td>\n",
       "      <td>...</td>\n",
       "      <td>...</td>\n",
       "      <td>...</td>\n",
       "      <td>...</td>\n",
       "      <td>...</td>\n",
       "      <td>...</td>\n",
       "      <td>...</td>\n",
       "      <td>...</td>\n",
       "    </tr>\n",
       "    <tr>\n",
       "      <th>371</th>\n",
       "      <td>boa</td>\n",
       "      <td>1.815159e+07</td>\n",
       "      <td>-34.50</td>\n",
       "      <td>-59.76</td>\n",
       "      <td>-0.20</td>\n",
       "      <td>NaN</td>\n",
       "      <td>NaN</td>\n",
       "      <td>NaN</td>\n",
       "      <td>NaN</td>\n",
       "      <td>-0.9000</td>\n",
       "      <td>NaN</td>\n",
       "      <td>NaN</td>\n",
       "      <td>NaN</td>\n",
       "      <td>0.29</td>\n",
       "    </tr>\n",
       "    <tr>\n",
       "      <th>372</th>\n",
       "      <td>ruim</td>\n",
       "      <td>5.034333e+09</td>\n",
       "      <td>0.21</td>\n",
       "      <td>1.69</td>\n",
       "      <td>15.64</td>\n",
       "      <td>9.4</td>\n",
       "      <td>NaN</td>\n",
       "      <td>661.00</td>\n",
       "      <td>-5.75</td>\n",
       "      <td>6.1800</td>\n",
       "      <td>24.00</td>\n",
       "      <td>5.0</td>\n",
       "      <td>NaN</td>\n",
       "      <td>1.19</td>\n",
       "    </tr>\n",
       "    <tr>\n",
       "      <th>373</th>\n",
       "      <td>boa</td>\n",
       "      <td>NaN</td>\n",
       "      <td>NaN</td>\n",
       "      <td>NaN</td>\n",
       "      <td>NaN</td>\n",
       "      <td>NaN</td>\n",
       "      <td>NaN</td>\n",
       "      <td>NaN</td>\n",
       "      <td>NaN</td>\n",
       "      <td>9.3600</td>\n",
       "      <td>11.00</td>\n",
       "      <td>NaN</td>\n",
       "      <td>NaN</td>\n",
       "      <td>1.90</td>\n",
       "    </tr>\n",
       "    <tr>\n",
       "      <th>374</th>\n",
       "      <td>ruim</td>\n",
       "      <td>1.412889e+08</td>\n",
       "      <td>-0.52</td>\n",
       "      <td>11.61</td>\n",
       "      <td>-7.35</td>\n",
       "      <td>NaN</td>\n",
       "      <td>2.00</td>\n",
       "      <td>NaN</td>\n",
       "      <td>NaN</td>\n",
       "      <td>2.2100</td>\n",
       "      <td>5.00</td>\n",
       "      <td>NaN</td>\n",
       "      <td>NaN</td>\n",
       "      <td>3.03</td>\n",
       "    </tr>\n",
       "    <tr>\n",
       "      <th>375</th>\n",
       "      <td>ruim</td>\n",
       "      <td>NaN</td>\n",
       "      <td>NaN</td>\n",
       "      <td>NaN</td>\n",
       "      <td>NaN</td>\n",
       "      <td>NaN</td>\n",
       "      <td>NaN</td>\n",
       "      <td>NaN</td>\n",
       "      <td>NaN</td>\n",
       "      <td>NaN</td>\n",
       "      <td>NaN</td>\n",
       "      <td>NaN</td>\n",
       "      <td>NaN</td>\n",
       "      <td>4.00</td>\n",
       "    </tr>\n",
       "  </tbody>\n",
       "</table>\n",
       "<p>376 rows × 14 columns</p>\n",
       "</div>"
      ],
      "text/plain": [
       "    Situação   Valor de M.    LPA    VPA    P/L  EV/EBITDA  Dividend Yield  \\\n",
       "0       ruim  1.334627e+09   0.57  36.03  24.71        NaN            0.85   \n",
       "1        boa  1.519060e+10   0.18   0.80  14.92        NaN           15.27   \n",
       "2       ruim  9.465319e+07   0.16   2.07  31.55        NaN            2.98   \n",
       "3       ruim  2.819886e+08   0.21   1.23  21.69        NaN            4.25   \n",
       "4       ruim  2.887665e+08   0.60  10.42   5.65        NaN             NaN   \n",
       "..       ...           ...    ...    ...    ...        ...             ...   \n",
       "371      boa  1.815159e+07 -34.50 -59.76  -0.20        NaN             NaN   \n",
       "372     ruim  5.034333e+09   0.21   1.69  15.64        9.4             NaN   \n",
       "373      boa           NaN    NaN    NaN    NaN        NaN             NaN   \n",
       "374     ruim  1.412889e+08  -0.52  11.61  -7.35        NaN            2.00   \n",
       "375     ruim           NaN    NaN    NaN    NaN        NaN             NaN   \n",
       "\n",
       "     Margem Bruta  Margem EBITDA  Margem Liquida    ROE   ROA  \\\n",
       "0             NaN            NaN          0.0648  20.66   NaN   \n",
       "1           87.95          61.43         34.6900  37.00  20.0   \n",
       "2             NaN            NaN         38.1500  25.00   NaN   \n",
       "3             NaN            NaN         56.0000  22.00   NaN   \n",
       "4             NaN            NaN        157.4500   6.00   NaN   \n",
       "..            ...            ...             ...    ...   ...   \n",
       "371           NaN            NaN         -0.9000    NaN   NaN   \n",
       "372        661.00          -5.75          6.1800  24.00   5.0   \n",
       "373           NaN            NaN          9.3600  11.00   NaN   \n",
       "374           NaN            NaN          2.2100   5.00   NaN   \n",
       "375           NaN            NaN             NaN    NaN   NaN   \n",
       "\n",
       "     Div Liquida/EBITDA  Liq. Corrente  \n",
       "0                   NaN           1.02  \n",
       "1                  2.03           0.94  \n",
       "2                   NaN           1.50  \n",
       "3                   NaN          10.57  \n",
       "4                   NaN           1.00  \n",
       "..                  ...            ...  \n",
       "371                 NaN           0.29  \n",
       "372                 NaN           1.19  \n",
       "373                 NaN           1.90  \n",
       "374                 NaN           3.03  \n",
       "375                 NaN           4.00  \n",
       "\n",
       "[376 rows x 14 columns]"
      ]
     },
     "execution_count": 2,
     "metadata": {},
     "output_type": "execute_result"
    }
   ],
   "source": [
    "# Caminho do arquivo Excel\n",
    "arquivo_excel = 'dados_filtrados.xlsx'\n",
    "\n",
    "# Ler o arquivo Excel e transformar em um DataFrame\n",
    "df = csv.reader(arquivo_excel)\n",
    "\n",
    "# Exibir as primeiras linhas do DataFrame\n",
    "print(df.head())\n",
    "\n",
    "df\n"
   ]
  },
  {
   "cell_type": "code",
   "execution_count": 3,
   "metadata": {},
   "outputs": [
    {
     "data": {
      "text/html": [
       "<div>\n",
       "<style scoped>\n",
       "    .dataframe tbody tr th:only-of-type {\n",
       "        vertical-align: middle;\n",
       "    }\n",
       "\n",
       "    .dataframe tbody tr th {\n",
       "        vertical-align: top;\n",
       "    }\n",
       "\n",
       "    .dataframe thead th {\n",
       "        text-align: right;\n",
       "    }\n",
       "</style>\n",
       "<table border=\"1\" class=\"dataframe\">\n",
       "  <thead>\n",
       "    <tr style=\"text-align: right;\">\n",
       "      <th></th>\n",
       "      <th>Valor de M.</th>\n",
       "      <th>LPA</th>\n",
       "      <th>VPA</th>\n",
       "      <th>P/L</th>\n",
       "      <th>EV/EBITDA</th>\n",
       "      <th>Dividend Yield</th>\n",
       "      <th>Margem Bruta</th>\n",
       "      <th>Margem EBITDA</th>\n",
       "      <th>Margem Liquida</th>\n",
       "      <th>ROE</th>\n",
       "      <th>ROA</th>\n",
       "      <th>Div Liquida/EBITDA</th>\n",
       "      <th>Liq. Corrente</th>\n",
       "    </tr>\n",
       "  </thead>\n",
       "  <tbody>\n",
       "    <tr>\n",
       "      <th>count</th>\n",
       "      <td>3.190000e+02</td>\n",
       "      <td>336.000000</td>\n",
       "      <td>339.000000</td>\n",
       "      <td>316.000000</td>\n",
       "      <td>132.000000</td>\n",
       "      <td>141.000000</td>\n",
       "      <td>137.000000</td>\n",
       "      <td>138.000000</td>\n",
       "      <td>318.000000</td>\n",
       "      <td>328.000000</td>\n",
       "      <td>155.000000</td>\n",
       "      <td>119.000000</td>\n",
       "      <td>317.000000</td>\n",
       "    </tr>\n",
       "    <tr>\n",
       "      <th>mean</th>\n",
       "      <td>8.596999e+09</td>\n",
       "      <td>-7.560357</td>\n",
       "      <td>37.412006</td>\n",
       "      <td>10.669968</td>\n",
       "      <td>7.876212</td>\n",
       "      <td>3.640709</td>\n",
       "      <td>54.431533</td>\n",
       "      <td>-54.981449</td>\n",
       "      <td>12.658474</td>\n",
       "      <td>18.404238</td>\n",
       "      <td>8.867742</td>\n",
       "      <td>3.418420</td>\n",
       "      <td>2.023817</td>\n",
       "    </tr>\n",
       "    <tr>\n",
       "      <th>std</th>\n",
       "      <td>2.835213e+10</td>\n",
       "      <td>66.582472</td>\n",
       "      <td>852.718948</td>\n",
       "      <td>90.771344</td>\n",
       "      <td>19.703044</td>\n",
       "      <td>3.703241</td>\n",
       "      <td>91.429166</td>\n",
       "      <td>926.329137</td>\n",
       "      <td>732.470543</td>\n",
       "      <td>26.335625</td>\n",
       "      <td>14.134451</td>\n",
       "      <td>6.071943</td>\n",
       "      <td>3.056026</td>\n",
       "    </tr>\n",
       "    <tr>\n",
       "      <th>min</th>\n",
       "      <td>6.750600e+04</td>\n",
       "      <td>-806.670000</td>\n",
       "      <td>-3804.860000</td>\n",
       "      <td>-866.700000</td>\n",
       "      <td>-160.650000</td>\n",
       "      <td>0.010000</td>\n",
       "      <td>7.910000</td>\n",
       "      <td>-10842.200000</td>\n",
       "      <td>-8001.210000</td>\n",
       "      <td>0.000000</td>\n",
       "      <td>-19.000000</td>\n",
       "      <td>0.022000</td>\n",
       "      <td>0.000000</td>\n",
       "    </tr>\n",
       "    <tr>\n",
       "      <th>25%</th>\n",
       "      <td>1.415735e+08</td>\n",
       "      <td>-0.900000</td>\n",
       "      <td>2.325000</td>\n",
       "      <td>-1.345000</td>\n",
       "      <td>5.757500</td>\n",
       "      <td>1.400000</td>\n",
       "      <td>25.830000</td>\n",
       "      <td>10.677500</td>\n",
       "      <td>-3.085000</td>\n",
       "      <td>7.000000</td>\n",
       "      <td>3.000000</td>\n",
       "      <td>1.120000</td>\n",
       "      <td>0.900000</td>\n",
       "    </tr>\n",
       "    <tr>\n",
       "      <th>50%</th>\n",
       "      <td>8.783330e+08</td>\n",
       "      <td>0.225000</td>\n",
       "      <td>8.420000</td>\n",
       "      <td>6.740000</td>\n",
       "      <td>9.185000</td>\n",
       "      <td>2.980000</td>\n",
       "      <td>37.460000</td>\n",
       "      <td>20.155000</td>\n",
       "      <td>4.045000</td>\n",
       "      <td>12.000000</td>\n",
       "      <td>7.000000</td>\n",
       "      <td>2.330000</td>\n",
       "      <td>1.390000</td>\n",
       "    </tr>\n",
       "    <tr>\n",
       "      <th>75%</th>\n",
       "      <td>5.117960e+09</td>\n",
       "      <td>1.290000</td>\n",
       "      <td>18.330000</td>\n",
       "      <td>17.400000</td>\n",
       "      <td>13.892500</td>\n",
       "      <td>4.720000</td>\n",
       "      <td>58.910000</td>\n",
       "      <td>32.555000</td>\n",
       "      <td>11.782500</td>\n",
       "      <td>20.000000</td>\n",
       "      <td>11.000000</td>\n",
       "      <td>3.400000</td>\n",
       "      <td>2.110000</td>\n",
       "    </tr>\n",
       "    <tr>\n",
       "      <th>max</th>\n",
       "      <td>2.866893e+11</td>\n",
       "      <td>200.660000</td>\n",
       "      <td>14896.470000</td>\n",
       "      <td>861.240000</td>\n",
       "      <td>51.410000</td>\n",
       "      <td>33.390000</td>\n",
       "      <td>878.000000</td>\n",
       "      <td>198.760000</td>\n",
       "      <td>8402.000000</td>\n",
       "      <td>285.430000</td>\n",
       "      <td>135.000000</td>\n",
       "      <td>59.000000</td>\n",
       "      <td>30.750000</td>\n",
       "    </tr>\n",
       "  </tbody>\n",
       "</table>\n",
       "</div>"
      ],
      "text/plain": [
       "        Valor de M.         LPA           VPA         P/L   EV/EBITDA  \\\n",
       "count  3.190000e+02  336.000000    339.000000  316.000000  132.000000   \n",
       "mean   8.596999e+09   -7.560357     37.412006   10.669968    7.876212   \n",
       "std    2.835213e+10   66.582472    852.718948   90.771344   19.703044   \n",
       "min    6.750600e+04 -806.670000  -3804.860000 -866.700000 -160.650000   \n",
       "25%    1.415735e+08   -0.900000      2.325000   -1.345000    5.757500   \n",
       "50%    8.783330e+08    0.225000      8.420000    6.740000    9.185000   \n",
       "75%    5.117960e+09    1.290000     18.330000   17.400000   13.892500   \n",
       "max    2.866893e+11  200.660000  14896.470000  861.240000   51.410000   \n",
       "\n",
       "       Dividend Yield  Margem Bruta  Margem EBITDA  Margem Liquida  \\\n",
       "count      141.000000    137.000000     138.000000      318.000000   \n",
       "mean         3.640709     54.431533     -54.981449       12.658474   \n",
       "std          3.703241     91.429166     926.329137      732.470543   \n",
       "min          0.010000      7.910000  -10842.200000    -8001.210000   \n",
       "25%          1.400000     25.830000      10.677500       -3.085000   \n",
       "50%          2.980000     37.460000      20.155000        4.045000   \n",
       "75%          4.720000     58.910000      32.555000       11.782500   \n",
       "max         33.390000    878.000000     198.760000     8402.000000   \n",
       "\n",
       "              ROE         ROA  Div Liquida/EBITDA  Liq. Corrente  \n",
       "count  328.000000  155.000000          119.000000     317.000000  \n",
       "mean    18.404238    8.867742            3.418420       2.023817  \n",
       "std     26.335625   14.134451            6.071943       3.056026  \n",
       "min      0.000000  -19.000000            0.022000       0.000000  \n",
       "25%      7.000000    3.000000            1.120000       0.900000  \n",
       "50%     12.000000    7.000000            2.330000       1.390000  \n",
       "75%     20.000000   11.000000            3.400000       2.110000  \n",
       "max    285.430000  135.000000           59.000000      30.750000  "
      ]
     },
     "execution_count": 3,
     "metadata": {},
     "output_type": "execute_result"
    }
   ],
   "source": [
    "df.describe()"
   ]
  },
  {
   "cell_type": "code",
   "execution_count": 4,
   "metadata": {},
   "outputs": [
    {
     "name": "stderr",
     "output_type": "stream",
     "text": [
      "C:\\Users\\MessiasOliveira\\AppData\\Local\\Temp\\ipykernel_27048\\1134722465.py:1: FutureWarning: The default value of numeric_only in DataFrame.corr is deprecated. In a future version, it will default to False. Select only valid columns or specify the value of numeric_only to silence this warning.\n",
      "  df.corr()\n"
     ]
    },
    {
     "data": {
      "text/html": [
       "<div>\n",
       "<style scoped>\n",
       "    .dataframe tbody tr th:only-of-type {\n",
       "        vertical-align: middle;\n",
       "    }\n",
       "\n",
       "    .dataframe tbody tr th {\n",
       "        vertical-align: top;\n",
       "    }\n",
       "\n",
       "    .dataframe thead th {\n",
       "        text-align: right;\n",
       "    }\n",
       "</style>\n",
       "<table border=\"1\" class=\"dataframe\">\n",
       "  <thead>\n",
       "    <tr style=\"text-align: right;\">\n",
       "      <th></th>\n",
       "      <th>Valor de M.</th>\n",
       "      <th>LPA</th>\n",
       "      <th>VPA</th>\n",
       "      <th>P/L</th>\n",
       "      <th>EV/EBITDA</th>\n",
       "      <th>Dividend Yield</th>\n",
       "      <th>Margem Bruta</th>\n",
       "      <th>Margem EBITDA</th>\n",
       "      <th>Margem Liquida</th>\n",
       "      <th>ROE</th>\n",
       "      <th>ROA</th>\n",
       "      <th>Div Liquida/EBITDA</th>\n",
       "      <th>Liq. Corrente</th>\n",
       "    </tr>\n",
       "  </thead>\n",
       "  <tbody>\n",
       "    <tr>\n",
       "      <th>Valor de M.</th>\n",
       "      <td>1.000000</td>\n",
       "      <td>0.045851</td>\n",
       "      <td>-0.007094</td>\n",
       "      <td>0.037227</td>\n",
       "      <td>0.073750</td>\n",
       "      <td>-0.035469</td>\n",
       "      <td>0.016967</td>\n",
       "      <td>0.040853</td>\n",
       "      <td>-0.001415</td>\n",
       "      <td>0.029665</td>\n",
       "      <td>-0.008165</td>\n",
       "      <td>0.005846</td>\n",
       "      <td>-0.046431</td>\n",
       "    </tr>\n",
       "    <tr>\n",
       "      <th>LPA</th>\n",
       "      <td>0.045851</td>\n",
       "      <td>1.000000</td>\n",
       "      <td>-0.419933</td>\n",
       "      <td>0.017657</td>\n",
       "      <td>0.041521</td>\n",
       "      <td>0.030744</td>\n",
       "      <td>0.032294</td>\n",
       "      <td>-0.105720</td>\n",
       "      <td>0.002360</td>\n",
       "      <td>0.032758</td>\n",
       "      <td>0.419093</td>\n",
       "      <td>-0.204283</td>\n",
       "      <td>0.024716</td>\n",
       "    </tr>\n",
       "    <tr>\n",
       "      <th>VPA</th>\n",
       "      <td>-0.007094</td>\n",
       "      <td>-0.419933</td>\n",
       "      <td>1.000000</td>\n",
       "      <td>-0.003455</td>\n",
       "      <td>-0.030830</td>\n",
       "      <td>0.063568</td>\n",
       "      <td>-0.076279</td>\n",
       "      <td>-0.236749</td>\n",
       "      <td>0.008704</td>\n",
       "      <td>-0.041331</td>\n",
       "      <td>-0.365598</td>\n",
       "      <td>0.001678</td>\n",
       "      <td>0.073278</td>\n",
       "    </tr>\n",
       "    <tr>\n",
       "      <th>P/L</th>\n",
       "      <td>0.037227</td>\n",
       "      <td>0.017657</td>\n",
       "      <td>-0.003455</td>\n",
       "      <td>1.000000</td>\n",
       "      <td>-0.070073</td>\n",
       "      <td>-0.099044</td>\n",
       "      <td>-0.003257</td>\n",
       "      <td>0.007694</td>\n",
       "      <td>0.004584</td>\n",
       "      <td>0.040576</td>\n",
       "      <td>0.031284</td>\n",
       "      <td>-0.074683</td>\n",
       "      <td>-0.001863</td>\n",
       "    </tr>\n",
       "    <tr>\n",
       "      <th>EV/EBITDA</th>\n",
       "      <td>0.073750</td>\n",
       "      <td>0.041521</td>\n",
       "      <td>-0.030830</td>\n",
       "      <td>-0.070073</td>\n",
       "      <td>1.000000</td>\n",
       "      <td>-0.080140</td>\n",
       "      <td>0.039494</td>\n",
       "      <td>0.048056</td>\n",
       "      <td>0.038737</td>\n",
       "      <td>0.000843</td>\n",
       "      <td>0.018353</td>\n",
       "      <td>-0.087514</td>\n",
       "      <td>-0.035494</td>\n",
       "    </tr>\n",
       "    <tr>\n",
       "      <th>Dividend Yield</th>\n",
       "      <td>-0.035469</td>\n",
       "      <td>0.030744</td>\n",
       "      <td>0.063568</td>\n",
       "      <td>-0.099044</td>\n",
       "      <td>-0.080140</td>\n",
       "      <td>1.000000</td>\n",
       "      <td>-0.035924</td>\n",
       "      <td>0.132335</td>\n",
       "      <td>-0.004848</td>\n",
       "      <td>0.061171</td>\n",
       "      <td>0.037436</td>\n",
       "      <td>-0.160152</td>\n",
       "      <td>0.031162</td>\n",
       "    </tr>\n",
       "    <tr>\n",
       "      <th>Margem Bruta</th>\n",
       "      <td>0.016967</td>\n",
       "      <td>0.032294</td>\n",
       "      <td>-0.076279</td>\n",
       "      <td>-0.003257</td>\n",
       "      <td>0.039494</td>\n",
       "      <td>-0.035924</td>\n",
       "      <td>1.000000</td>\n",
       "      <td>0.026845</td>\n",
       "      <td>0.021094</td>\n",
       "      <td>0.066388</td>\n",
       "      <td>0.019062</td>\n",
       "      <td>-0.113350</td>\n",
       "      <td>0.053478</td>\n",
       "    </tr>\n",
       "    <tr>\n",
       "      <th>Margem EBITDA</th>\n",
       "      <td>0.040853</td>\n",
       "      <td>-0.105720</td>\n",
       "      <td>-0.236749</td>\n",
       "      <td>0.007694</td>\n",
       "      <td>0.048056</td>\n",
       "      <td>0.132335</td>\n",
       "      <td>0.026845</td>\n",
       "      <td>1.000000</td>\n",
       "      <td>0.980702</td>\n",
       "      <td>0.000141</td>\n",
       "      <td>-0.026200</td>\n",
       "      <td>-0.227661</td>\n",
       "      <td>-0.329006</td>\n",
       "    </tr>\n",
       "    <tr>\n",
       "      <th>Margem Liquida</th>\n",
       "      <td>-0.001415</td>\n",
       "      <td>0.002360</td>\n",
       "      <td>0.008704</td>\n",
       "      <td>0.004584</td>\n",
       "      <td>0.038737</td>\n",
       "      <td>-0.004848</td>\n",
       "      <td>0.021094</td>\n",
       "      <td>0.980702</td>\n",
       "      <td>1.000000</td>\n",
       "      <td>-0.019839</td>\n",
       "      <td>0.123655</td>\n",
       "      <td>-0.062310</td>\n",
       "      <td>-0.118936</td>\n",
       "    </tr>\n",
       "    <tr>\n",
       "      <th>ROE</th>\n",
       "      <td>0.029665</td>\n",
       "      <td>0.032758</td>\n",
       "      <td>-0.041331</td>\n",
       "      <td>0.040576</td>\n",
       "      <td>0.000843</td>\n",
       "      <td>0.061171</td>\n",
       "      <td>0.066388</td>\n",
       "      <td>0.000141</td>\n",
       "      <td>-0.019839</td>\n",
       "      <td>1.000000</td>\n",
       "      <td>0.358543</td>\n",
       "      <td>-0.047793</td>\n",
       "      <td>0.094490</td>\n",
       "    </tr>\n",
       "    <tr>\n",
       "      <th>ROA</th>\n",
       "      <td>-0.008165</td>\n",
       "      <td>0.419093</td>\n",
       "      <td>-0.365598</td>\n",
       "      <td>0.031284</td>\n",
       "      <td>0.018353</td>\n",
       "      <td>0.037436</td>\n",
       "      <td>0.019062</td>\n",
       "      <td>-0.026200</td>\n",
       "      <td>0.123655</td>\n",
       "      <td>0.358543</td>\n",
       "      <td>1.000000</td>\n",
       "      <td>-0.144476</td>\n",
       "      <td>0.031751</td>\n",
       "    </tr>\n",
       "    <tr>\n",
       "      <th>Div Liquida/EBITDA</th>\n",
       "      <td>0.005846</td>\n",
       "      <td>-0.204283</td>\n",
       "      <td>0.001678</td>\n",
       "      <td>-0.074683</td>\n",
       "      <td>-0.087514</td>\n",
       "      <td>-0.160152</td>\n",
       "      <td>-0.113350</td>\n",
       "      <td>-0.227661</td>\n",
       "      <td>-0.062310</td>\n",
       "      <td>-0.047793</td>\n",
       "      <td>-0.144476</td>\n",
       "      <td>1.000000</td>\n",
       "      <td>0.005613</td>\n",
       "    </tr>\n",
       "    <tr>\n",
       "      <th>Liq. Corrente</th>\n",
       "      <td>-0.046431</td>\n",
       "      <td>0.024716</td>\n",
       "      <td>0.073278</td>\n",
       "      <td>-0.001863</td>\n",
       "      <td>-0.035494</td>\n",
       "      <td>0.031162</td>\n",
       "      <td>0.053478</td>\n",
       "      <td>-0.329006</td>\n",
       "      <td>-0.118936</td>\n",
       "      <td>0.094490</td>\n",
       "      <td>0.031751</td>\n",
       "      <td>0.005613</td>\n",
       "      <td>1.000000</td>\n",
       "    </tr>\n",
       "  </tbody>\n",
       "</table>\n",
       "</div>"
      ],
      "text/plain": [
       "                    Valor de M.       LPA       VPA       P/L  EV/EBITDA  \\\n",
       "Valor de M.            1.000000  0.045851 -0.007094  0.037227   0.073750   \n",
       "LPA                    0.045851  1.000000 -0.419933  0.017657   0.041521   \n",
       "VPA                   -0.007094 -0.419933  1.000000 -0.003455  -0.030830   \n",
       "P/L                    0.037227  0.017657 -0.003455  1.000000  -0.070073   \n",
       "EV/EBITDA              0.073750  0.041521 -0.030830 -0.070073   1.000000   \n",
       "Dividend Yield        -0.035469  0.030744  0.063568 -0.099044  -0.080140   \n",
       "Margem Bruta           0.016967  0.032294 -0.076279 -0.003257   0.039494   \n",
       "Margem EBITDA          0.040853 -0.105720 -0.236749  0.007694   0.048056   \n",
       "Margem Liquida        -0.001415  0.002360  0.008704  0.004584   0.038737   \n",
       "ROE                    0.029665  0.032758 -0.041331  0.040576   0.000843   \n",
       "ROA                   -0.008165  0.419093 -0.365598  0.031284   0.018353   \n",
       "Div Liquida/EBITDA     0.005846 -0.204283  0.001678 -0.074683  -0.087514   \n",
       "Liq. Corrente         -0.046431  0.024716  0.073278 -0.001863  -0.035494   \n",
       "\n",
       "                    Dividend Yield  Margem Bruta  Margem EBITDA  \\\n",
       "Valor de M.              -0.035469      0.016967       0.040853   \n",
       "LPA                       0.030744      0.032294      -0.105720   \n",
       "VPA                       0.063568     -0.076279      -0.236749   \n",
       "P/L                      -0.099044     -0.003257       0.007694   \n",
       "EV/EBITDA                -0.080140      0.039494       0.048056   \n",
       "Dividend Yield            1.000000     -0.035924       0.132335   \n",
       "Margem Bruta             -0.035924      1.000000       0.026845   \n",
       "Margem EBITDA             0.132335      0.026845       1.000000   \n",
       "Margem Liquida           -0.004848      0.021094       0.980702   \n",
       "ROE                       0.061171      0.066388       0.000141   \n",
       "ROA                       0.037436      0.019062      -0.026200   \n",
       "Div Liquida/EBITDA       -0.160152     -0.113350      -0.227661   \n",
       "Liq. Corrente             0.031162      0.053478      -0.329006   \n",
       "\n",
       "                    Margem Liquida       ROE       ROA  Div Liquida/EBITDA  \\\n",
       "Valor de M.              -0.001415  0.029665 -0.008165            0.005846   \n",
       "LPA                       0.002360  0.032758  0.419093           -0.204283   \n",
       "VPA                       0.008704 -0.041331 -0.365598            0.001678   \n",
       "P/L                       0.004584  0.040576  0.031284           -0.074683   \n",
       "EV/EBITDA                 0.038737  0.000843  0.018353           -0.087514   \n",
       "Dividend Yield           -0.004848  0.061171  0.037436           -0.160152   \n",
       "Margem Bruta              0.021094  0.066388  0.019062           -0.113350   \n",
       "Margem EBITDA             0.980702  0.000141 -0.026200           -0.227661   \n",
       "Margem Liquida            1.000000 -0.019839  0.123655           -0.062310   \n",
       "ROE                      -0.019839  1.000000  0.358543           -0.047793   \n",
       "ROA                       0.123655  0.358543  1.000000           -0.144476   \n",
       "Div Liquida/EBITDA       -0.062310 -0.047793 -0.144476            1.000000   \n",
       "Liq. Corrente            -0.118936  0.094490  0.031751            0.005613   \n",
       "\n",
       "                    Liq. Corrente  \n",
       "Valor de M.             -0.046431  \n",
       "LPA                      0.024716  \n",
       "VPA                      0.073278  \n",
       "P/L                     -0.001863  \n",
       "EV/EBITDA               -0.035494  \n",
       "Dividend Yield           0.031162  \n",
       "Margem Bruta             0.053478  \n",
       "Margem EBITDA           -0.329006  \n",
       "Margem Liquida          -0.118936  \n",
       "ROE                      0.094490  \n",
       "ROA                      0.031751  \n",
       "Div Liquida/EBITDA       0.005613  \n",
       "Liq. Corrente            1.000000  "
      ]
     },
     "execution_count": 4,
     "metadata": {},
     "output_type": "execute_result"
    }
   ],
   "source": [
    "df.corr()"
   ]
  },
  {
   "cell_type": "code",
   "execution_count": 5,
   "metadata": {},
   "outputs": [
    {
     "data": {
      "text/plain": [
       "<Axes: xlabel='Situação', ylabel='count'>"
      ]
     },
     "execution_count": 5,
     "metadata": {},
     "output_type": "execute_result"
    },
    {
     "data": {
      "image/png": "[encoded data removed]",
      "text/plain": [
       "<Figure size 640x480 with 1 Axes>"
      ]
     },
     "metadata": {},
     "output_type": "display_data"
    }
   ],
   "source": [
    "sns.countplot(x = df['Situação'])"
   ]
  },
  {
   "cell_type": "code",
   "execution_count": 6,
   "metadata": {},
   "outputs": [
    {
     "data": {
      "text/plain": [
       "Situação               0.000000\n",
       "Valor de M.           15.159574\n",
       "LPA                   10.638298\n",
       "VPA                    9.840426\n",
       "P/L                   15.957447\n",
       "EV/EBITDA             64.893617\n",
       "Dividend Yield        62.500000\n",
       "Margem Bruta          63.563830\n",
       "Margem EBITDA         63.297872\n",
       "Margem Liquida        15.425532\n",
       "ROE                   12.765957\n",
       "ROA                   58.776596\n",
       "Div Liquida/EBITDA    68.351064\n",
       "Liq. Corrente         15.691489\n",
       "dtype: float64"
      ]
     },
     "execution_count": 6,
     "metadata": {},
     "output_type": "execute_result"
    }
   ],
   "source": [
    "df.isnull().sum()/len(df) * 100"
   ]
  },
  {
   "cell_type": "code",
   "execution_count": 32,
   "metadata": {},
   "outputs": [
    {
     "data": {
      "application/vnd.plotly.v1+json": {
       "config": {
        "plotlyServerURL": "https://plot.ly"
       },
       "data": [
        {
         "dimensions": [
          {
           "axis": {
            "matches": true
           },
           "label": "Valor de M.",
           "values": [
            1334627184,
            94653192,
            281988609,
            288766537,
            null,
            21780282,
            null,
            49140000,
            106793859,
            5754537879,
            null,
            1194150611,
            61600000,
            130553039,
            80654000,
            null,
            218113969,
            114987600,
            223585000,
            1904532334,
            424102084,
            606088652,
            124348552,
            2755630730,
            314328550,
            655870537,
            33010787985,
            2116574107,
            null,
            12780940891,
            1102534382,
            null,
            2056106016,
            null,
            null,
            19815851,
            468483860,
            3813414,
            20244629,
            883289434,
            4020514693,
            1560000,
            5963823675,
            null,
            8581133184,
            149223174,
            41000000,
            null,
            null,
            10350929391,
            170951430,
            82921164,
            null,
            1025849,
            null,
            null,
            258498822,
            18589781,
            6300000,
            544127,
            null,
            58616105,
            null,
            null,
            42009498,
            9272352,
            388514184,
            25004009,
            3305164905,
            48690000,
            152388223,
            null,
            336218464,
            11780203500,
            343617440,
            404162804,
            null,
            415293884,
            201964815,
            null,
            2920586,
            15643114403,
            117085664,
            1124817993,
            738297465,
            433220000,
            null,
            null,
            41650000,
            2121596,
            null,
            51442751,
            117510240,
            15506159,
            3545554,
            236973329,
            25288732,
            null,
            95763047,
            null,
            174822119,
            27396624016,
            149545399,
            616060103,
            null,
            36301444,
            10017827820,
            84786008,
            13629720,
            574529319,
            26678489,
            null,
            25619629,
            null,
            4597470683,
            215156928,
            107339600,
            128746738,
            8307212,
            141901694,
            null,
            2365262065,
            19880280,
            31662333,
            2488800000,
            32243380,
            null,
            1870186293,
            null,
            null,
            39728916,
            193195,
            null,
            null,
            35195065,
            3096603383,
            193627347,
            19383651,
            null,
            484974862,
            null,
            338030000,
            null,
            1690531916,
            null,
            41158244,
            6070730159,
            295135502,
            872147321,
            1633199040,
            null,
            11210739,
            249487906,
            null,
            null,
            2503985,
            null,
            599879095,
            null,
            5950400,
            70467993,
            20184764,
            500000000,
            null,
            17173480032,
            null,
            444829382,
            null,
            177783958,
            22999712,
            621497,
            8871253,
            4090650,
            100255540,
            null,
            null,
            14907484,
            661760000,
            62819640,
            207486904,
            7317981991,
            133494455,
            8553267,
            837241164,
            null,
            5034333120,
            141288920,
            null
           ]
          },
          {
           "axis": {
            "matches": true
           },
           "label": "Dividend Yield",
           "values": [
            0.85,
            2.98,
            4.25,
            null,
            null,
            null,
            null,
            null,
            null,
            0.89,
            null,
            0.79,
            null,
            null,
            3.28,
            null,
            null,
            3.25,
            10.33,
            null,
            1.71,
            null,
            null,
            null,
            null,
            null,
            1.57,
            null,
            null,
            null,
            null,
            null,
            null,
            null,
            null,
            null,
            0.71,
            null,
            null,
            4.42,
            null,
            null,
            3.24,
            3.96,
            null,
            null,
            null,
            null,
            null,
            null,
            null,
            null,
            null,
            null,
            null,
            null,
            1.16,
            null,
            null,
            null,
            null,
            null,
            null,
            null,
            null,
            null,
            null,
            null,
            8.89,
            1.77,
            null,
            null,
            1.09,
            0.63,
            null,
            8.41,
            null,
            null,
            null,
            null,
            null,
            1.91,
            null,
            1.54,
            0.15,
            null,
            null,
            null,
            null,
            null,
            null,
            null,
            null,
            null,
            null,
            null,
            null,
            null,
            0.12,
            null,
            null,
            3.98,
            null,
            null,
            null,
            null,
            1.54,
            null,
            null,
            null,
            null,
            null,
            null,
            null,
            null,
            null,
            5.06,
            null,
            null,
            3.75,
            null,
            null,
            null,
            null,
            null,
            null,
            null,
            null,
            null,
            null,
            null,
            null,
            null,
            null,
            null,
            null,
            3.58,
            null,
            null,
            null,
            null,
            null,
            null,
            null,
            null,
            null,
            null,
            null,
            null,
            null,
            null,
            null,
            null,
            null,
            null,
            null,
            null,
            1.17,
            null,
            null,
            null,
            null,
            null,
            null,
            null,
            null,
            null,
            null,
            2.72,
            null,
            null,
            null,
            null,
            null,
            null,
            null,
            null,
            null,
            null,
            null,
            null,
            null,
            null,
            null,
            null,
            null,
            2,
            null
           ]
          },
          {
           "axis": {
            "matches": true
           },
           "label": "LPA",
           "values": [
            0.57,
            0.16,
            0.21,
            0.6,
            0.44,
            -1.98,
            0.44,
            0.04,
            null,
            0.35,
            null,
            0.51,
            -63.13,
            0.13,
            1.53,
            14.8,
            -0.75,
            0.07,
            2.26,
            -0.26,
            -0.12,
            0.34,
            1.09,
            0.1,
            -0.66,
            -5.61,
            -0.45,
            -0.82,
            -3.51,
            1.23,
            -1.47,
            null,
            -3.4,
            null,
            0.15,
            -8.56,
            null,
            0,
            -0.82,
            -0.26,
            0.16,
            -0.05,
            0.93,
            1.88,
            0.04,
            -0.2,
            -9.8,
            null,
            -17.71,
            1,
            -2.48,
            -0.08,
            null,
            -9.39,
            0.66,
            null,
            1.29,
            -0.75,
            -2.94,
            -17.68,
            0.37,
            -0.7,
            null,
            null,
            -33.84,
            -22.43,
            0.25,
            null,
            1.94,
            -0.89,
            -0.35,
            null,
            1.62,
            0.8,
            0.12,
            0.39,
            null,
            0.1,
            0.8,
            -0.81,
            -15.14,
            3,
            -1.59,
            0.29,
            -41.44,
            -7.26,
            null,
            null,
            0.25,
            160.78,
            null,
            -1.31,
            -14.93,
            -2.4,
            -8.97,
            -0.62,
            -31.24,
            null,
            6.77,
            null,
            -1.7,
            0.26,
            -1.07,
            -0.9,
            null,
            -15.63,
            2.01,
            4.02,
            null,
            -0.24,
            0.75,
            null,
            0.86,
            -0.01,
            -1.02,
            -40.06,
            -0.72,
            0.5,
            -17.76,
            1.86,
            200.66,
            0.85,
            -1.55,
            63.65,
            0.87,
            -4.44,
            null,
            0.19,
            null,
            0.46,
            -4.38,
            -179.77,
            null,
            null,
            -313.53,
            -8.62,
            0.42,
            -40.04,
            null,
            0.01,
            -0.09,
            0.1,
            null,
            0.58,
            null,
            -1.13,
            0.1,
            -7.14,
            -3.05,
            -0.15,
            -0.01,
            null,
            -1.71,
            null,
            0,
            -730.91,
            null,
            0.49,
            0,
            -806.67,
            -2.44,
            -8.3,
            -0.12,
            -6.87,
            0.92,
            null,
            0.39,
            -2.08,
            0.14,
            -6.81,
            -58.01,
            0.15,
            -258.37,
            -5.77,
            -11.92,
            null,
            -19.96,
            0.87,
            1.54,
            0.04,
            -0.25,
            -0.36,
            -60.96,
            0.19,
            -4.79,
            0.21,
            -0.52,
            null
           ]
          },
          {
           "axis": {
            "matches": true
           },
           "label": "ROE",
           "values": [
            20.66,
            25,
            22,
            6,
            29,
            null,
            285.43,
            67,
            null,
            20,
            10,
            8,
            4,
            100,
            12,
            27,
            0,
            6,
            8,
            3,
            10,
            5,
            null,
            10,
            13,
            0,
            9,
            9,
            null,
            16,
            null,
            25,
            8,
            null,
            null,
            101,
            14,
            null,
            null,
            12,
            25,
            null,
            3,
            7,
            2,
            null,
            5,
            8,
            null,
            27,
            null,
            9,
            null,
            null,
            22,
            11,
            6,
            11,
            4,
            20,
            27,
            6,
            6,
            2,
            null,
            null,
            5,
            null,
            9,
            12,
            8,
            7,
            9,
            8,
            9,
            8,
            3,
            4,
            12,
            null,
            13,
            7,
            13,
            11,
            11,
            6,
            1,
            null,
            null,
            null,
            188,
            null,
            null,
            null,
            5,
            2,
            21,
            9,
            6,
            null,
            6,
            6,
            18,
            16,
            2,
            12,
            23,
            17,
            72,
            60,
            11,
            20,
            8,
            null,
            9,
            15,
            7,
            13,
            3,
            13,
            14,
            15,
            null,
            2,
            22,
            10,
            14,
            5,
            12,
            7,
            null,
            24,
            21,
            19,
            null,
            14,
            8,
            3,
            11,
            39,
            null,
            7,
            12,
            5,
            27,
            null,
            20,
            null,
            1,
            16,
            null,
            null,
            8,
            16,
            20,
            null,
            null,
            14,
            3,
            2,
            22,
            16,
            2,
            4,
            9,
            2,
            14,
            42,
            187,
            null,
            null,
            19,
            null,
            8,
            9,
            51,
            null,
            8,
            6,
            7,
            2,
            21,
            4,
            41,
            2,
            24,
            5,
            null
           ]
          }
         ],
         "hovertemplate": "Situação=ruim<br>%{xaxis.title.text}=%{x}<br>%{yaxis.title.text}=%{y}<extra></extra>",
         "legendgroup": "ruim",
         "marker": {
          "color": "#636efa",
          "symbol": "circle"
         },
         "name": "ruim",
         "showlegend": true,
         "type": "splom"
        },
        {
         "dimensions": [
          {
           "axis": {
            "matches": true
           },
           "label": "Valor de M.",
           "values": [
            15190603555,
            3122133183,
            5330195973,
            2787681431,
            286689305243,
            6471691951,
            1795867728,
            3273494980,
            170717717242,
            92252390555,
            374943258,
            null,
            93857852795,
            137607350,
            215791247,
            40482662713,
            9045416068,
            null,
            57860000000,
            null,
            34400600000,
            27701946368,
            67506,
            12424767125,
            3445096981,
            3940413576,
            2579936330,
            935308800,
            5763473136,
            227439739,
            8133037745,
            469035147,
            21038433768,
            4680915279,
            4941642047,
            418713600,
            67214004609,
            null,
            14778374709,
            26282558742,
            6145919019,
            404624000,
            5276604947,
            1410833985,
            4070206363,
            2462816785,
            6824770408,
            1939987682,
            null,
            5201488435,
            3848059003,
            682363562,
            11552053637,
            51438887,
            3245585072,
            22630571797,
            7085892138,
            3006256902,
            16171988630,
            400939936,
            5034432000,
            18480318494,
            234066856229,
            67814123796,
            42564023388,
            23935747132,
            4290772622,
            24114804529,
            19036226009,
            2936675051,
            17241540000,
            4951880657,
            4352580121,
            2205219780,
            7110676341,
            13659299761,
            6083325368,
            547416001,
            3384151209,
            185753636283,
            9359333219,
            878332957,
            6381643089,
            22823064880,
            12479628169,
            209458597,
            8546129688,
            3005117856,
            722040000,
            71359563751,
            5018823128,
            11072095298,
            39182046860,
            689289200,
            140914774144,
            4069211500,
            27250279923,
            18151586,
            null
           ]
          },
          {
           "axis": {
            "matches": true
           },
           "label": "Dividend Yield",
           "values": [
            15.27,
            0.64,
            1.4,
            2.61,
            3.17,
            4.1,
            null,
            6.21,
            3.55,
            2.4,
            4.15,
            null,
            5.72,
            7.51,
            null,
            2.49,
            null,
            null,
            5.91,
            null,
            2.46,
            null,
            1.11,
            6.49,
            2.19,
            null,
            7.83,
            7.12,
            10.22,
            3.52,
            4.64,
            3.48,
            null,
            3.19,
            5.91,
            15,
            2.1,
            null,
            3.97,
            1.58,
            null,
            3.2,
            2.04,
            null,
            2.93,
            null,
            0.45,
            1.09,
            null,
            4.58,
            6.72,
            1.24,
            0.47,
            null,
            5.02,
            4.72,
            6.09,
            3.56,
            0.53,
            6.08,
            1.1,
            3.62,
            4.94,
            5.68,
            2.53,
            2.44,
            0.19,
            0.46,
            0.87,
            0.62,
            3.18,
            null,
            null,
            3.02,
            2.13,
            0.73,
            1.92,
            null,
            null,
            null,
            4.1,
            null,
            3.93,
            0.83,
            null,
            null,
            6.31,
            1.12,
            null,
            2.63,
            1.65,
            7.77,
            2.37,
            null,
            0.58,
            null,
            1.6,
            null,
            null
           ]
          },
          {
           "axis": {
            "matches": true
           },
           "label": "LPA",
           "values": [
            0.18,
            -0.05,
            0.76,
            1.31,
            0.83,
            0.92,
            0.25,
            2.14,
            2.72,
            2.77,
            4.32,
            null,
            0.99,
            24.19,
            0.26,
            0.7,
            0.35,
            null,
            2.01,
            null,
            0.81,
            2.6,
            1.12,
            0.27,
            5.05,
            2.44,
            1.23,
            0.79,
            7.08,
            -12.8,
            3.46,
            5.21,
            4.31,
            3.42,
            1.24,
            5.99,
            1.54,
            null,
            3.41,
            0.86,
            -0.1,
            0.84,
            0.61,
            0.43,
            1.47,
            -0.43,
            0.08,
            9.87,
            null,
            -1.7,
            1.91,
            0.42,
            4.39,
            1.15,
            1.41,
            2.37,
            1.46,
            0.93,
            -1.68,
            3.07,
            5.1,
            1.86,
            3.58,
            1.11,
            0.52,
            1.15,
            -1.53,
            0.02,
            0.97,
            0.42,
            2.31,
            4.02,
            -3.23,
            7.84,
            1.29,
            1.48,
            0.41,
            18.35,
            -0.63,
            -1,
            2.82,
            -0.28,
            1.49,
            1.41,
            -0.79,
            0.68,
            4.73,
            1.79,
            -1.67,
            2.42,
            0.8,
            0.78,
            2.82,
            1.21,
            2.84,
            1.49,
            0.7,
            -34.5,
            null
           ]
          },
          {
           "axis": {
            "matches": true
           },
           "label": "ROE",
           "values": [
            37,
            7,
            16,
            26,
            28,
            16,
            2,
            17,
            17,
            19,
            22,
            23,
            8,
            12,
            7,
            6,
            10,
            7,
            45,
            5,
            30,
            4,
            29,
            21,
            23,
            23,
            29,
            7,
            28,
            12,
            8,
            4,
            13,
            10,
            10,
            17,
            97,
            9,
            12,
            15,
            1,
            14,
            12,
            14,
            45.29,
            7,
            7,
            16,
            10,
            23,
            27,
            8,
            15,
            44,
            19,
            25,
            8,
            81,
            6,
            12,
            13,
            6,
            20,
            17,
            12,
            11,
            13,
            26,
            26,
            32,
            19,
            38,
            6,
            11,
            14,
            8,
            27.75,
            20,
            null,
            10,
            14,
            6,
            9,
            10,
            9,
            21,
            79,
            26,
            14,
            11,
            18,
            19,
            16,
            13.71,
            13,
            6,
            17,
            null,
            11
           ]
          }
         ],
         "hovertemplate": "Situação=boa<br>%{xaxis.title.text}=%{x}<br>%{yaxis.title.text}=%{y}<extra></extra>",
         "legendgroup": "boa",
         "marker": {
          "color": "#EF553B",
          "symbol": "circle"
         },
         "name": "boa",
         "showlegend": true,
         "type": "splom"
        },
        {
         "dimensions": [
          {
           "axis": {
            "matches": true
           },
           "label": "Valor de M.",
           "values": [
            4510893262,
            4112987332,
            28300950,
            501568494,
            868033914,
            null,
            7582386804,
            2423583280,
            6204476024,
            157044572,
            725333679,
            29267607254,
            952997063,
            19782916765,
            524387936,
            4516256112,
            394576403,
            1287063693,
            392070213,
            919670870,
            86770027,
            3002074428,
            52096660,
            1852240,
            238728711,
            9784417064,
            189202234,
            585027145,
            866702932,
            6274485424,
            2465505281,
            8168206303,
            2541953644,
            59852016,
            21366464606,
            5302512252,
            243440000,
            1032750000,
            1123903621,
            52384211080,
            84674857,
            6790257600,
            1082228914,
            804927920,
            5951810179,
            2094284052,
            1062471608,
            2906415023,
            924376236,
            1214277481,
            211647220,
            1453950000,
            666745345,
            1376709236,
            2720140200,
            21502090,
            2146454741,
            1712281532,
            4295923,
            10494000,
            646158107,
            6355198264,
            190242224,
            13044987736,
            1348725150,
            260895619,
            906530966,
            427697102,
            107239774,
            41798638,
            1362356687,
            141858097,
            3638349132,
            1478712150,
            1905331527,
            6301036105,
            450548553,
            159409418,
            1957181525,
            1681324282,
            10367577166,
            241480593,
            361128589,
            861338041,
            444633896,
            24452428038,
            2351535025,
            7647696967,
            1453637500
           ]
          },
          {
           "axis": {
            "matches": true
           },
           "label": "Dividend Yield",
           "values": [
            null,
            null,
            null,
            4.9,
            null,
            4.83,
            2,
            6.94,
            0.58,
            null,
            4.54,
            4.41,
            2.96,
            0.01,
            null,
            5.21,
            null,
            null,
            null,
            null,
            null,
            5.37,
            1.99,
            7.67,
            0.25,
            2.51,
            null,
            6.22,
            4.77,
            null,
            null,
            3.99,
            1.6,
            null,
            1.51,
            10.29,
            null,
            3.71,
            null,
            null,
            null,
            2.92,
            1.34,
            2.42,
            1,
            0.46,
            null,
            null,
            null,
            null,
            3.3,
            null,
            null,
            null,
            1.18,
            null,
            5.8,
            null,
            null,
            null,
            null,
            8.03,
            1.24,
            0.85,
            null,
            null,
            33.39,
            null,
            null,
            null,
            null,
            null,
            null,
            null,
            null,
            2.83,
            null,
            null,
            null,
            null,
            3.02,
            null,
            null,
            null,
            null,
            null,
            3.55,
            null,
            3.07
           ]
          },
          {
           "axis": {
            "matches": true
           },
           "label": "LPA",
           "values": [
            2.25,
            -1.42,
            3.31,
            1.03,
            4.42,
            1.69,
            1.61,
            8.48,
            1.8,
            -12.26,
            0.67,
            2.5,
            4.16,
            -4.04,
            44.06,
            1.62,
            9.29,
            0.95,
            -53.1,
            8.78,
            -0.55,
            1.23,
            40.31,
            -43.19,
            0.26,
            30.04,
            -0.9,
            0.29,
            -0.01,
            0.04,
            0.56,
            1.37,
            0.13,
            -31.58,
            0.2,
            1.16,
            -0.21,
            0.18,
            -0.46,
            0.21,
            -4.47,
            2.11,
            0.26,
            -0.32,
            0.93,
            0.64,
            -0.46,
            0.78,
            -6.09,
            -0.48,
            2.83,
            -0.91,
            -0.84,
            8.92,
            0.03,
            -3.83,
            0.24,
            -0.43,
            -41.43,
            -27.44,
            -0.56,
            3.17,
            0.59,
            1.31,
            -0.09,
            0.86,
            1.6,
            0.42,
            -110.4,
            -1.51,
            -0.03,
            -30.78,
            -0.28,
            -0.03,
            1.33,
            0.53,
            -2.7,
            -1.87,
            0.16,
            3.25,
            0.61,
            -8.26,
            -0.03,
            0.15,
            -19.93,
            0.31,
            -1.26,
            0,
            1.36
           ]
          },
          {
           "axis": {
            "matches": true
           },
           "label": "ROE",
           "values": [
            17,
            23,
            39,
            7,
            8,
            13,
            15,
            18,
            13,
            15,
            3,
            6,
            21,
            9.17,
            null,
            25,
            9,
            20,
            81,
            23,
            1,
            33,
            98,
            49,
            10,
            17,
            6,
            7,
            14.43,
            8,
            7,
            11,
            18,
            11,
            16,
            14,
            19,
            12,
            4,
            20,
            null,
            20,
            36,
            16,
            8,
            11,
            18,
            23,
            9,
            13,
            6,
            9,
            12,
            7,
            9,
            null,
            18,
            16,
            2,
            100,
            18,
            132,
            3.81,
            57,
            15,
            9,
            14,
            12,
            12,
            21,
            17,
            9,
            7,
            13,
            15,
            6,
            5,
            2.34,
            3,
            11,
            15,
            null,
            16,
            17,
            16,
            10,
            10,
            12,
            17
           ]
          }
         ],
         "hovertemplate": "Situação=medio<br>%{xaxis.title.text}=%{x}<br>%{yaxis.title.text}=%{y}<extra></extra>",
         "legendgroup": "medio",
         "marker": {
          "color": "#00cc96",
          "symbol": "circle"
         },
         "name": "medio",
         "showlegend": true,
         "type": "splom"
        }
       ],
       "layout": {
        "dragmode": "select",
        "legend": {
         "title": {
          "text": "Situação"
         },
         "tracegroupgap": 0
        },
        "margin": {
         "t": 60
        },
        "template": {
         "data": {
          "bar": [
           {
            "error_x": {
             "color": "#2a3f5f"
            },
            "error_y": {
             "color": "#2a3f5f"
            },
            "marker": {
             "line": {
              "color": "#E5ECF6",
              "width": 0.5
             },
             "pattern": {
              "fillmode": "overlay",
              "size": 10,
              "solidity": 0.2
             }
            },
            "type": "bar"
           }
          ],
          "barpolar": [
           {
            "marker": {
             "line": {
              "color": "#E5ECF6",
              "width": 0.5
             },
             "pattern": {
              "fillmode": "overlay",
              "size": 10,
              "solidity": 0.2
             }
            },
            "type": "barpolar"
           }
          ],
          "carpet": [
           {
            "aaxis": {
             "endlinecolor": "#2a3f5f",
             "gridcolor": "white",
             "linecolor": "white",
             "minorgridcolor": "white",
             "startlinecolor": "#2a3f5f"
            },
            "baxis": {
             "endlinecolor": "#2a3f5f",
             "gridcolor": "white",
             "linecolor": "white",
             "minorgridcolor": "white",
             "startlinecolor": "#2a3f5f"
            },
            "type": "carpet"
           }
          ],
          "choropleth": [
           {
            "colorbar": {
             "outlinewidth": 0,
             "ticks": ""
            },
            "type": "choropleth"
           }
          ],
          "contour": [
           {
            "colorbar": {
             "outlinewidth": 0,
             "ticks": ""
            },
            "colorscale": [
             [
              0,
              "#0d0887"
             ],
             [
              0.1111111111111111,
              "#46039f"
             ],
             [
              0.2222222222222222,
              "#7201a8"
             ],
             [
              0.3333333333333333,
              "#9c179e"
             ],
             [
              0.4444444444444444,
              "#bd3786"
             ],
             [
              0.5555555555555556,
              "#d8576b"
             ],
             [
              0.6666666666666666,
              "#ed7953"
             ],
             [
              0.7777777777777778,
              "#fb9f3a"
             ],
             [
              0.8888888888888888,
              "#fdca26"
             ],
             [
              1,
              "#f0f921"
             ]
            ],
            "type": "contour"
           }
          ],
          "contourcarpet": [
           {
            "colorbar": {
             "outlinewidth": 0,
             "ticks": ""
            },
            "type": "contourcarpet"
           }
          ],
          "heatmap": [
           {
            "colorbar": {
             "outlinewidth": 0,
             "ticks": ""
            },
            "colorscale": [
             [
              0,
              "#0d0887"
             ],
             [
              0.1111111111111111,
              "#46039f"
             ],
             [
              0.2222222222222222,
              "#7201a8"
             ],
             [
              0.3333333333333333,
              "#9c179e"
             ],
             [
              0.4444444444444444,
              "#bd3786"
             ],
             [
              0.5555555555555556,
              "#d8576b"
             ],
             [
              0.6666666666666666,
              "#ed7953"
             ],
             [
              0.7777777777777778,
              "#fb9f3a"
             ],
             [
              0.8888888888888888,
              "#fdca26"
             ],
             [
              1,
              "#f0f921"
             ]
            ],
            "type": "heatmap"
           }
          ],
          "heatmapgl": [
           {
            "colorbar": {
             "outlinewidth": 0,
             "ticks": ""
            },
            "colorscale": [
             [
              0,
              "#0d0887"
             ],
             [
              0.1111111111111111,
              "#46039f"
             ],
             [
              0.2222222222222222,
              "#7201a8"
             ],
             [
              0.3333333333333333,
              "#9c179e"
             ],
             [
              0.4444444444444444,
              "#bd3786"
             ],
             [
              0.5555555555555556,
              "#d8576b"
             ],
             [
              0.6666666666666666,
              "#ed7953"
             ],
             [
              0.7777777777777778,
              "#fb9f3a"
             ],
             [
              0.8888888888888888,
              "#fdca26"
             ],
             [
              1,
              "#f0f921"
             ]
            ],
            "type": "heatmapgl"
           }
          ],
          "histogram": [
           {
            "marker": {
             "pattern": {
              "fillmode": "overlay",
              "size": 10,
              "solidity": 0.2
             }
            },
            "type": "histogram"
           }
          ],
          "histogram2d": [
           {
            "colorbar": {
             "outlinewidth": 0,
             "ticks": ""
            },
            "colorscale": [
             [
              0,
              "#0d0887"
             ],
             [
              0.1111111111111111,
              "#46039f"
             ],
             [
              0.2222222222222222,
              "#7201a8"
             ],
             [
              0.3333333333333333,
              "#9c179e"
             ],
             [
              0.4444444444444444,
              "#bd3786"
             ],
             [
              0.5555555555555556,
              "#d8576b"
             ],
             [
              0.6666666666666666,
              "#ed7953"
             ],
             [
              0.7777777777777778,
              "#fb9f3a"
             ],
             [
              0.8888888888888888,
              "#fdca26"
             ],
             [
              1,
              "#f0f921"
             ]
            ],
            "type": "histogram2d"
           }
          ],
          "histogram2dcontour": [
           {
            "colorbar": {
             "outlinewidth": 0,
             "ticks": ""
            },
            "colorscale": [
             [
              0,
              "#0d0887"
             ],
             [
              0.1111111111111111,
              "#46039f"
             ],
             [
              0.2222222222222222,
              "#7201a8"
             ],
             [
              0.3333333333333333,
              "#9c179e"
             ],
             [
              0.4444444444444444,
              "#bd3786"
             ],
             [
              0.5555555555555556,
              "#d8576b"
             ],
             [
              0.6666666666666666,
              "#ed7953"
             ],
             [
              0.7777777777777778,
              "#fb9f3a"
             ],
             [
              0.8888888888888888,
              "#fdca26"
             ],
             [
              1,
              "#f0f921"
             ]
            ],
            "type": "histogram2dcontour"
           }
          ],
          "mesh3d": [
           {
            "colorbar": {
             "outlinewidth": 0,
             "ticks": ""
            },
            "type": "mesh3d"
           }
          ],
          "parcoords": [
           {
            "line": {
             "colorbar": {
              "outlinewidth": 0,
              "ticks": ""
             }
            },
            "type": "parcoords"
           }
          ],
          "pie": [
           {
            "automargin": true,
            "type": "pie"
           }
          ],
          "scatter": [
           {
            "fillpattern": {
             "fillmode": "overlay",
             "size": 10,
             "solidity": 0.2
            },
            "type": "scatter"
           }
          ],
          "scatter3d": [
           {
            "line": {
             "colorbar": {
              "outlinewidth": 0,
              "ticks": ""
             }
            },
            "marker": {
             "colorbar": {
              "outlinewidth": 0,
              "ticks": ""
             }
            },
            "type": "scatter3d"
           }
          ],
          "scattercarpet": [
           {
            "marker": {
             "colorbar": {
              "outlinewidth": 0,
              "ticks": ""
             }
            },
            "type": "scattercarpet"
           }
          ],
          "scattergeo": [
           {
            "marker": {
             "colorbar": {
              "outlinewidth": 0,
              "ticks": ""
             }
            },
            "type": "scattergeo"
           }
          ],
          "scattergl": [
           {
            "marker": {
             "colorbar": {
              "outlinewidth": 0,
              "ticks": ""
             }
            },
            "type": "scattergl"
           }
          ],
          "scattermapbox": [
           {
            "marker": {
             "colorbar": {
              "outlinewidth": 0,
              "ticks": ""
             }
            },
            "type": "scattermapbox"
           }
          ],
          "scatterpolar": [
           {
            "marker": {
             "colorbar": {
              "outlinewidth": 0,
              "ticks": ""
             }
            },
            "type": "scatterpolar"
           }
          ],
          "scatterpolargl": [
           {
            "marker": {
             "colorbar": {
              "outlinewidth": 0,
              "ticks": ""
             }
            },
            "type": "scatterpolargl"
           }
          ],
          "scatterternary": [
           {
            "marker": {
             "colorbar": {
              "outlinewidth": 0,
              "ticks": ""
             }
            },
            "type": "scatterternary"
           }
          ],
          "surface": [
           {
            "colorbar": {
             "outlinewidth": 0,
             "ticks": ""
            },
            "colorscale": [
             [
              0,
              "#0d0887"
             ],
             [
              0.1111111111111111,
              "#46039f"
             ],
             [
              0.2222222222222222,
              "#7201a8"
             ],
             [
              0.3333333333333333,
              "#9c179e"
             ],
             [
              0.4444444444444444,
              "#bd3786"
             ],
             [
              0.5555555555555556,
              "#d8576b"
             ],
             [
              0.6666666666666666,
              "#ed7953"
             ],
             [
              0.7777777777777778,
              "#fb9f3a"
             ],
             [
              0.8888888888888888,
              "#fdca26"
             ],
             [
              1,
              "#f0f921"
             ]
            ],
            "type": "surface"
           }
          ],
          "table": [
           {
            "cells": {
             "fill": {
              "color": "#EBF0F8"
             },
             "line": {
              "color": "white"
             }
            },
            "header": {
             "fill": {
              "color": "#C8D4E3"
             },
             "line": {
              "color": "white"
             }
            },
            "type": "table"
           }
          ]
         },
         "layout": {
          "annotationdefaults": {
           "arrowcolor": "#2a3f5f",
           "arrowhead": 0,
           "arrowwidth": 1
          },
          "autotypenumbers": "strict",
          "coloraxis": {
           "colorbar": {
            "outlinewidth": 0,
            "ticks": ""
           }
          },
          "colorscale": {
           "diverging": [
            [
             0,
             "#8e0152"
            ],
            [
             0.1,
             "#c51b7d"
            ],
            [
             0.2,
             "#de77ae"
            ],
            [
             0.3,
             "#f1b6da"
            ],
            [
             0.4,
             "#fde0ef"
            ],
            [
             0.5,
             "#f7f7f7"
            ],
            [
             0.6,
             "#e6f5d0"
            ],
            [
             0.7,
             "#b8e186"
            ],
            [
             0.8,
             "#7fbc41"
            ],
            [
             0.9,
             "#4d9221"
            ],
            [
             1,
             "#276419"
            ]
           ],
           "sequential": [
            [
             0,
             "#0d0887"
            ],
            [
             0.1111111111111111,
             "#46039f"
            ],
            [
             0.2222222222222222,
             "#7201a8"
            ],
            [
             0.3333333333333333,
             "#9c179e"
            ],
            [
             0.4444444444444444,
             "#bd3786"
            ],
            [
             0.5555555555555556,
             "#d8576b"
            ],
            [
             0.6666666666666666,
             "#ed7953"
            ],
            [
             0.7777777777777778,
             "#fb9f3a"
            ],
            [
             0.8888888888888888,
             "#fdca26"
            ],
            [
             1,
             "#f0f921"
            ]
           ],
           "sequentialminus": [
            [
             0,
             "#0d0887"
            ],
            [
             0.1111111111111111,
             "#46039f"
            ],
            [
             0.2222222222222222,
             "#7201a8"
            ],
            [
             0.3333333333333333,
             "#9c179e"
            ],
            [
             0.4444444444444444,
             "#bd3786"
            ],
            [
             0.5555555555555556,
             "#d8576b"
            ],
            [
             0.6666666666666666,
             "#ed7953"
            ],
            [
             0.7777777777777778,
             "#fb9f3a"
            ],
            [
             0.8888888888888888,
             "#fdca26"
            ],
            [
             1,
             "#f0f921"
            ]
           ]
          },
          "colorway": [
           "#636efa",
           "#EF553B",
           "#00cc96",
           "#ab63fa",
           "#FFA15A",
           "#19d3f3",
           "#FF6692",
           "#B6E880",
           "#FF97FF",
           "#FECB52"
          ],
          "font": {
           "color": "#2a3f5f"
          },
          "geo": {
           "bgcolor": "white",
           "lakecolor": "white",
           "landcolor": "#E5ECF6",
           "showlakes": true,
           "showland": true,
           "subunitcolor": "white"
          },
          "hoverlabel": {
           "align": "left"
          },
          "hovermode": "closest",
          "mapbox": {
           "style": "light"
          },
          "paper_bgcolor": "white",
          "plot_bgcolor": "#E5ECF6",
          "polar": {
           "angularaxis": {
            "gridcolor": "white",
            "linecolor": "white",
            "ticks": ""
           },
           "bgcolor": "#E5ECF6",
           "radialaxis": {
            "gridcolor": "white",
            "linecolor": "white",
            "ticks": ""
           }
          },
          "scene": {
           "xaxis": {
            "backgroundcolor": "#E5ECF6",
            "gridcolor": "white",
            "gridwidth": 2,
            "linecolor": "white",
            "showbackground": true,
            "ticks": "",
            "zerolinecolor": "white"
           },
           "yaxis": {
            "backgroundcolor": "#E5ECF6",
            "gridcolor": "white",
            "gridwidth": 2,
            "linecolor": "white",
            "showbackground": true,
            "ticks": "",
            "zerolinecolor": "white"
           },
           "zaxis": {
            "backgroundcolor": "#E5ECF6",
            "gridcolor": "white",
            "gridwidth": 2,
            "linecolor": "white",
            "showbackground": true,
            "ticks": "",
            "zerolinecolor": "white"
           }
          },
          "shapedefaults": {
           "line": {
            "color": "#2a3f5f"
           }
          },
          "ternary": {
           "aaxis": {
            "gridcolor": "white",
            "linecolor": "white",
            "ticks": ""
           },
           "baxis": {
            "gridcolor": "white",
            "linecolor": "white",
            "ticks": ""
           },
           "bgcolor": "#E5ECF6",
           "caxis": {
            "gridcolor": "white",
            "linecolor": "white",
            "ticks": ""
           }
          },
          "title": {
           "x": 0.05
          },
          "xaxis": {
           "automargin": true,
           "gridcolor": "white",
           "linecolor": "white",
           "ticks": "",
           "title": {
            "standoff": 15
           },
           "zerolinecolor": "white",
           "zerolinewidth": 2
          },
          "yaxis": {
           "automargin": true,
           "gridcolor": "white",
           "linecolor": "white",
           "ticks": "",
           "title": {
            "standoff": 15
           },
           "zerolinecolor": "white",
           "zerolinewidth": 2
          }
         }
        }
       }
      }
     },
     "metadata": {},
     "output_type": "display_data"
    }
   ],
   "source": [
    "grafico = px.scatter_matrix(df, dimensions=[\"Valor de M.\", 'Dividend Yield', \"LPA\", \"ROE\"], color='Situação')\n",
    "grafico.show()"
   ]
  },
  {
   "cell_type": "code",
   "execution_count": 36,
   "metadata": {},
   "outputs": [
    {
     "data": {
      "application/vnd.plotly.v1+json": {
       "config": {
        "plotlyServerURL": "https://plot.ly"
       },
       "data": [
        {
         "dimensions": [
          {
           "axis": {
            "matches": true
           },
           "label": "LPA",
           "values": [
            0.57,
            0.16,
            0.21,
            0.6,
            0.44,
            -1.98,
            0.44,
            0.04,
            null,
            0.35,
            null,
            0.51,
            -63.13,
            0.13,
            1.53,
            14.8,
            -0.75,
            0.07,
            2.26,
            -0.26,
            -0.12,
            0.34,
            1.09,
            0.1,
            -0.66,
            -5.61,
            -0.45,
            -0.82,
            -3.51,
            1.23,
            -1.47,
            null,
            -3.4,
            null,
            0.15,
            -8.56,
            null,
            0,
            -0.82,
            -0.26,
            0.16,
            -0.05,
            0.93,
            1.88,
            0.04,
            -0.2,
            -9.8,
            null,
            -17.71,
            1,
            -2.48,
            -0.08,
            null,
            -9.39,
            0.66,
            null,
            1.29,
            -0.75,
            -2.94,
            -17.68,
            0.37,
            -0.7,
            null,
            null,
            -33.84,
            -22.43,
            0.25,
            null,
            1.94,
            -0.89,
            -0.35,
            null,
            1.62,
            0.8,
            0.12,
            0.39,
            null,
            0.1,
            0.8,
            -0.81,
            -15.14,
            3,
            -1.59,
            0.29,
            -41.44,
            -7.26,
            null,
            null,
            0.25,
            160.78,
            null,
            -1.31,
            -14.93,
            -2.4,
            -8.97,
            -0.62,
            -31.24,
            null,
            6.77,
            null,
            -1.7,
            0.26,
            -1.07,
            -0.9,
            null,
            -15.63,
            2.01,
            4.02,
            null,
            -0.24,
            0.75,
            null,
            0.86,
            -0.01,
            -1.02,
            -40.06,
            -0.72,
            0.5,
            -17.76,
            1.86,
            200.66,
            0.85,
            -1.55,
            63.65,
            0.87,
            -4.44,
            null,
            0.19,
            null,
            0.46,
            -4.38,
            -179.77,
            null,
            null,
            -313.53,
            -8.62,
            0.42,
            -40.04,
            null,
            0.01,
            -0.09,
            0.1,
            null,
            0.58,
            null,
            -1.13,
            0.1,
            -7.14,
            -3.05,
            -0.15,
            -0.01,
            null,
            -1.71,
            null,
            0,
            -730.91,
            null,
            0.49,
            0,
            -806.67,
            -2.44,
            -8.3,
            -0.12,
            -6.87,
            0.92,
            null,
            0.39,
            -2.08,
            0.14,
            -6.81,
            -58.01,
            0.15,
            -258.37,
            -5.77,
            -11.92,
            null,
            -19.96,
            0.87,
            1.54,
            0.04,
            -0.25,
            -0.36,
            -60.96,
            0.19,
            -4.79,
            0.21,
            -0.52,
            null
           ]
          },
          {
           "axis": {
            "matches": true
           },
           "label": "Div Liquida/EBITDA",
           "values": [
            null,
            null,
            null,
            null,
            59,
            null,
            null,
            null,
            null,
            2.83,
            null,
            null,
            null,
            null,
            null,
            null,
            null,
            null,
            null,
            null,
            null,
            null,
            null,
            4.93,
            null,
            null,
            2.97,
            null,
            null,
            null,
            null,
            null,
            null,
            null,
            null,
            null,
            null,
            null,
            null,
            0.22,
            null,
            null,
            0.52,
            null,
            null,
            null,
            null,
            null,
            null,
            4.12,
            null,
            null,
            null,
            null,
            null,
            null,
            null,
            null,
            null,
            null,
            null,
            null,
            null,
            null,
            null,
            null,
            null,
            null,
            null,
            null,
            null,
            null,
            null,
            0.88,
            null,
            null,
            null,
            null,
            null,
            null,
            null,
            6.47,
            3.04,
            1.32,
            11.16,
            null,
            null,
            null,
            null,
            null,
            null,
            null,
            null,
            null,
            null,
            null,
            null,
            null,
            null,
            null,
            null,
            4.38,
            null,
            null,
            null,
            null,
            1.69,
            null,
            null,
            null,
            null,
            null,
            null,
            null,
            null,
            null,
            null,
            null,
            null,
            null,
            null,
            null,
            null,
            1.82,
            null,
            null,
            null,
            null,
            null,
            null,
            null,
            null,
            null,
            null,
            null,
            3.42,
            null,
            null,
            null,
            2.15,
            null,
            null,
            null,
            null,
            null,
            null,
            null,
            null,
            10.33,
            2.47,
            null,
            null,
            null,
            null,
            null,
            null,
            null,
            null,
            null,
            null,
            null,
            null,
            6.76,
            null,
            3.86,
            null,
            1.27,
            null,
            null,
            null,
            null,
            null,
            null,
            null,
            null,
            null,
            null,
            null,
            null,
            null,
            2.94,
            null,
            null,
            null,
            null,
            null,
            null,
            null
           ]
          },
          {
           "axis": {
            "matches": true
           },
           "label": "Margem Liquida",
           "values": [
            0.0648,
            38.15,
            56,
            157.45,
            19.77,
            23.8,
            null,
            2.81,
            null,
            11,
            -2.71,
            null,
            -5.79,
            0.05,
            7.93,
            null,
            null,
            null,
            null,
            null,
            null,
            null,
            null,
            93,
            -7.36,
            -14.19,
            4.04,
            -18.33,
            -59.45,
            null,
            -7.92,
            0,
            null,
            null,
            -608,
            1.35,
            3.93,
            null,
            null,
            3.28,
            -3.18,
            -201,
            7.88,
            2.33,
            3.88,
            -1350,
            -1.1,
            4.75,
            -1202,
            10.21,
            -4.2,
            3.9,
            null,
            null,
            13.93,
            0.88,
            377.03,
            -69.3,
            -5.35,
            0.75,
            192.69,
            -35.75,
            -2.8,
            7.1,
            -28,
            -546,
            6.7,
            -9.15,
            20.39,
            2.83,
            2.06,
            null,
            5.25,
            4.66,
            10.45,
            null,
            null,
            -1.05,
            0,
            -90,
            -2.44,
            5.68,
            -9.6,
            6.96,
            -13.39,
            -54.53,
            -16.53,
            null,
            13.33,
            1633,
            -71.46,
            -4.4,
            -5.98,
            -311.55,
            null,
            0.41,
            -15.81,
            1.14,
            null,
            null,
            -23.09,
            0.91,
            4.34,
            -3.69,
            -1.03,
            -0.13,
            9.73,
            -6.05,
            87,
            -11.35,
            -53.14,
            0.6,
            -12.83,
            null,
            -1.76,
            8402,
            null,
            0.15,
            -27.71,
            9.53,
            4.26,
            -2.26,
            -23.45,
            1592.54,
            17.31,
            -2.76,
            3.26,
            5.57,
            14.85,
            5.33,
            null,
            -18.73,
            10.17,
            null,
            null,
            -3.93,
            2.41,
            -8.25,
            null,
            6.33,
            -1036.1,
            0.71,
            3.2,
            30.13,
            2.8,
            -369.38,
            -119.26,
            -95,
            -29.71,
            0.79,
            -11.44,
            null,
            5.94,
            33.33,
            null,
            -20.09,
            -17.09,
            7.41,
            -6.48,
            2.35,
            14.19,
            -3.48,
            -4.93,
            0.18,
            3.19,
            -7.35,
            1.16,
            2.36,
            38.91,
            -41.93,
            null,
            -40.25,
            -59.8,
            7.46,
            1.51,
            41.68,
            -56.58,
            2.51,
            6.13,
            6.03,
            null,
            8.38,
            -7.93,
            -5.51,
            -4,
            6.18,
            2.21,
            null
           ]
          },
          {
           "axis": {
            "matches": true
           },
           "label": "Situação",
           "values": [
            "ruim",
            "ruim",
            "ruim",
            "ruim",
            "ruim",
            "ruim",
            "ruim",
            "ruim",
            "ruim",
            "ruim",
            "ruim",
            "ruim",
            "ruim",
            "ruim",
            "ruim",
            "ruim",
            "ruim",
            "ruim",
            "ruim",
            "ruim",
            "ruim",
            "ruim",
            "ruim",
            "ruim",
            "ruim",
            "ruim",
            "ruim",
            "ruim",
            "ruim",
            "ruim",
            "ruim",
            "ruim",
            "ruim",
            "ruim",
            "ruim",
            "ruim",
            "ruim",
            "ruim",
            "ruim",
            "ruim",
            "ruim",
            "ruim",
            "ruim",
            "ruim",
            "ruim",
            "ruim",
            "ruim",
            "ruim",
            "ruim",
            "ruim",
            "ruim",
            "ruim",
            "ruim",
            "ruim",
            "ruim",
            "ruim",
            "ruim",
            "ruim",
            "ruim",
            "ruim",
            "ruim",
            "ruim",
            "ruim",
            "ruim",
            "ruim",
            "ruim",
            "ruim",
            "ruim",
            "ruim",
            "ruim",
            "ruim",
            "ruim",
            "ruim",
            "ruim",
            "ruim",
            "ruim",
            "ruim",
            "ruim",
            "ruim",
            "ruim",
            "ruim",
            "ruim",
            "ruim",
            "ruim",
            "ruim",
            "ruim",
            "ruim",
            "ruim",
            "ruim",
            "ruim",
            "ruim",
            "ruim",
            "ruim",
            "ruim",
            "ruim",
            "ruim",
            "ruim",
            "ruim",
            "ruim",
            "ruim",
            "ruim",
            "ruim",
            "ruim",
            "ruim",
            "ruim",
            "ruim",
            "ruim",
            "ruim",
            "ruim",
            "ruim",
            "ruim",
            "ruim",
            "ruim",
            "ruim",
            "ruim",
            "ruim",
            "ruim",
            "ruim",
            "ruim",
            "ruim",
            "ruim",
            "ruim",
            "ruim",
            "ruim",
            "ruim",
            "ruim",
            "ruim",
            "ruim",
            "ruim",
            "ruim",
            "ruim",
            "ruim",
            "ruim",
            "ruim",
            "ruim",
            "ruim",
            "ruim",
            "ruim",
            "ruim",
            "ruim",
            "ruim",
            "ruim",
            "ruim",
            "ruim",
            "ruim",
            "ruim",
            "ruim",
            "ruim",
            "ruim",
            "ruim",
            "ruim",
            "ruim",
            "ruim",
            "ruim",
            "ruim",
            "ruim",
            "ruim",
            "ruim",
            "ruim",
            "ruim",
            "ruim",
            "ruim",
            "ruim",
            "ruim",
            "ruim",
            "ruim",
            "ruim",
            "ruim",
            "ruim",
            "ruim",
            "ruim",
            "ruim",
            "ruim",
            "ruim",
            "ruim",
            "ruim",
            "ruim",
            "ruim",
            "ruim",
            "ruim",
            "ruim",
            "ruim",
            "ruim",
            "ruim",
            "ruim",
            "ruim",
            "ruim",
            "ruim"
           ]
          }
         ],
         "hovertemplate": "Situação=ruim<br>%{xaxis.title.text}=%{x}<br>%{yaxis.title.text}=%{y}<extra></extra>",
         "legendgroup": "ruim",
         "marker": {
          "color": "#636efa",
          "symbol": "circle"
         },
         "name": "ruim",
         "showlegend": true,
         "type": "splom"
        },
        {
         "dimensions": [
          {
           "axis": {
            "matches": true
           },
           "label": "LPA",
           "values": [
            0.18,
            -0.05,
            0.76,
            1.31,
            0.83,
            0.92,
            0.25,
            2.14,
            2.72,
            2.77,
            4.32,
            null,
            0.99,
            24.19,
            0.26,
            0.7,
            0.35,
            null,
            2.01,
            null,
            0.81,
            2.6,
            1.12,
            0.27,
            5.05,
            2.44,
            1.23,
            0.79,
            7.08,
            -12.8,
            3.46,
            5.21,
            4.31,
            3.42,
            1.24,
            5.99,
            1.54,
            null,
            3.41,
            0.86,
            -0.1,
            0.84,
            0.61,
            0.43,
            1.47,
            -0.43,
            0.08,
            9.87,
            null,
            -1.7,
            1.91,
            0.42,
            4.39,
            1.15,
            1.41,
            2.37,
            1.46,
            0.93,
            -1.68,
            3.07,
            5.1,
            1.86,
            3.58,
            1.11,
            0.52,
            1.15,
            -1.53,
            0.02,
            0.97,
            0.42,
            2.31,
            4.02,
            -3.23,
            7.84,
            1.29,
            1.48,
            0.41,
            18.35,
            -0.63,
            -1,
            2.82,
            -0.28,
            1.49,
            1.41,
            -0.79,
            0.68,
            4.73,
            1.79,
            -1.67,
            2.42,
            0.8,
            0.78,
            2.82,
            1.21,
            2.84,
            1.49,
            0.7,
            -34.5,
            null
           ]
          },
          {
           "axis": {
            "matches": true
           },
           "label": "Div Liquida/EBITDA",
           "values": [
            2.03,
            2.6,
            0.2,
            0.34,
            null,
            2.91,
            null,
            null,
            null,
            null,
            null,
            null,
            null,
            null,
            null,
            null,
            3.71,
            null,
            null,
            null,
            2.53,
            3.38,
            null,
            2.41,
            1.39,
            null,
            null,
            null,
            2.02,
            null,
            1.53,
            null,
            2.31,
            2.4,
            1.96,
            null,
            1.15,
            null,
            2.7,
            3.23,
            null,
            0.87,
            3.04,
            null,
            0.42,
            null,
            null,
            null,
            null,
            2.33,
            null,
            null,
            1.97,
            null,
            0.39,
            0.83,
            1.15,
            null,
            4.61,
            null,
            0.45,
            2.21,
            null,
            0.12,
            2.78,
            4.74,
            3.93,
            1.94,
            0.9,
            0.78,
            0.58,
            1.81,
            4.94,
            null,
            1.65,
            2.23,
            null,
            null,
            null,
            7.82,
            null,
            null,
            0.35,
            0.11,
            7.25,
            0.5,
            0.87,
            0.59,
            5.64,
            0.022,
            0.88,
            2.62,
            1.32,
            3.33,
            1.58,
            null,
            0.49,
            null,
            null
           ]
          },
          {
           "axis": {
            "matches": true
           },
           "label": "Margem Liquida",
           "values": [
            34.69,
            27.73,
            9.24,
            11.3,
            30,
            43.19,
            0,
            null,
            null,
            null,
            null,
            null,
            null,
            106,
            -166,
            60.2,
            99,
            null,
            null,
            null,
            17.63,
            -8.96,
            9.69,
            15.94,
            11.79,
            14.84,
            18.13,
            12.2,
            11.2,
            5.2,
            0.11,
            4.34,
            14.5,
            11.81,
            14.38,
            30.89,
            40.63,
            3.73,
            7.53,
            8.6,
            -28.29,
            4.88,
            13.36,
            40.35,
            16.43,
            12.18,
            4.05,
            2.53,
            3.85,
            13.05,
            11.93,
            null,
            9.68,
            2.15,
            45.63,
            27.34,
            8.4,
            28.02,
            1.36,
            13.26,
            9.66,
            12.89,
            null,
            119,
            9.84,
            15.79,
            5.11,
            2.24,
            9.71,
            14.99,
            13.55,
            0.2,
            0.74,
            4917,
            16.49,
            34.38,
            18.48,
            -8001.21,
            -187,
            4.94,
            6.7,
            0.59,
            4.53,
            3.14,
            -4.78,
            10.49,
            28.8,
            null,
            -7.3,
            12.51,
            11.46,
            57.5,
            1.81,
            28.84,
            6.58,
            2.68,
            12.06,
            -0.9,
            9.36
           ]
          },
          {
           "axis": {
            "matches": true
           },
           "label": "Situação",
           "values": [
            "boa",
            "boa",
            "boa",
            "boa",
            "boa",
            "boa",
            "boa",
            "boa",
            "boa",
            "boa",
            "boa",
            "boa",
            "boa",
            "boa",
            "boa",
            "boa",
            "boa",
            "boa",
            "boa",
            "boa",
            "boa",
            "boa",
            "boa",
            "boa",
            "boa",
            "boa",
            "boa",
            "boa",
            "boa",
            "boa",
            "boa",
            "boa",
            "boa",
            "boa",
            "boa",
            "boa",
            "boa",
            "boa",
            "boa",
            "boa",
            "boa",
            "boa",
            "boa",
            "boa",
            "boa",
            "boa",
            "boa",
            "boa",
            "boa",
            "boa",
            "boa",
            "boa",
            "boa",
            "boa",
            "boa",
            "boa",
            "boa",
            "boa",
            "boa",
            "boa",
            "boa",
            "boa",
            "boa",
            "boa",
            "boa",
            "boa",
            "boa",
            "boa",
            "boa",
            "boa",
            "boa",
            "boa",
            "boa",
            "boa",
            "boa",
            "boa",
            "boa",
            "boa",
            "boa",
            "boa",
            "boa",
            "boa",
            "boa",
            "boa",
            "boa",
            "boa",
            "boa",
            "boa",
            "boa",
            "boa",
            "boa",
            "boa",
            "boa",
            "boa",
            "boa",
            "boa",
            "boa",
            "boa",
            "boa"
           ]
          }
         ],
         "hovertemplate": "Situação=boa<br>%{xaxis.title.text}=%{x}<br>%{yaxis.title.text}=%{y}<extra></extra>",
         "legendgroup": "boa",
         "marker": {
          "color": "#EF553B",
          "symbol": "circle"
         },
         "name": "boa",
         "showlegend": true,
         "type": "splom"
        },
        {
         "dimensions": [
          {
           "axis": {
            "matches": true
           },
           "label": "LPA",
           "values": [
            2.25,
            -1.42,
            3.31,
            1.03,
            4.42,
            1.69,
            1.61,
            8.48,
            1.8,
            -12.26,
            0.67,
            2.5,
            4.16,
            -4.04,
            44.06,
            1.62,
            9.29,
            0.95,
            -53.1,
            8.78,
            -0.55,
            1.23,
            40.31,
            -43.19,
            0.26,
            30.04,
            -0.9,
            0.29,
            -0.01,
            0.04,
            0.56,
            1.37,
            0.13,
            -31.58,
            0.2,
            1.16,
            -0.21,
            0.18,
            -0.46,
            0.21,
            -4.47,
            2.11,
            0.26,
            -0.32,
            0.93,
            0.64,
            -0.46,
            0.78,
            -6.09,
            -0.48,
            2.83,
            -0.91,
            -0.84,
            8.92,
            0.03,
            -3.83,
            0.24,
            -0.43,
            -41.43,
            -27.44,
            -0.56,
            3.17,
            0.59,
            1.31,
            -0.09,
            0.86,
            1.6,
            0.42,
            -110.4,
            -1.51,
            -0.03,
            -30.78,
            -0.28,
            -0.03,
            1.33,
            0.53,
            -2.7,
            -1.87,
            0.16,
            3.25,
            0.61,
            -8.26,
            -0.03,
            0.15,
            -19.93,
            0.31,
            -1.26,
            0,
            1.36
           ]
          },
          {
           "axis": {
            "matches": true
           },
           "label": "Div Liquida/EBITDA",
           "values": [
            null,
            2.95,
            null,
            null,
            null,
            null,
            null,
            null,
            11.47,
            null,
            null,
            2.67,
            null,
            1.65,
            null,
            null,
            null,
            null,
            null,
            null,
            null,
            null,
            null,
            null,
            null,
            1.07,
            null,
            null,
            2.72,
            1.53,
            null,
            1.72,
            2.2,
            null,
            null,
            0.71,
            1.36,
            4.53,
            8.84,
            9.67,
            null,
            null,
            1.77,
            3.79,
            3.1,
            3.02,
            null,
            null,
            null,
            2.72,
            null,
            null,
            4.26,
            null,
            1.08,
            null,
            2.95,
            null,
            null,
            null,
            1.8,
            null,
            null,
            1.03,
            4.77,
            null,
            null,
            null,
            7.92,
            null,
            2.83,
            27.45,
            3.52,
            0.85,
            2.69,
            3.92,
            null,
            6.7,
            3.05,
            0.93,
            null,
            null,
            2.54,
            null,
            null,
            0.24,
            1.82,
            2.47,
            1.09
           ]
          },
          {
           "axis": {
            "matches": true
           },
           "label": "Margem Liquida",
           "values": [
            6.25,
            -2.26,
            null,
            null,
            null,
            null,
            null,
            null,
            20.4,
            20.6,
            -16,
            2.41,
            null,
            1.25,
            -435,
            12.3,
            1.05,
            9.23,
            0.79,
            26.1,
            4.04,
            18.99,
            -22.24,
            -30.98,
            4.46,
            36.38,
            -1.51,
            2.33,
            14.1,
            10.18,
            0.9,
            11.76,
            5.7,
            216,
            7.76,
            10.53,
            8.51,
            10.63,
            -219.49,
            -7.84,
            -8.53,
            22.33,
            3.67,
            10.83,
            null,
            3.75,
            4.4,
            11.43,
            -5.71,
            15.21,
            2.76,
            1.89,
            5.08,
            -1.25,
            5.74,
            -30.71,
            7.73,
            4.15,
            -8.08,
            -12.3,
            7.39,
            19.84,
            null,
            10.35,
            7.8,
            3.84,
            null,
            1.5,
            -297.05,
            -38.26,
            5.29,
            -18.88,
            -1.49,
            11.13,
            34.64,
            7.6,
            -0.49,
            39,
            6.03,
            114.01,
            4.89,
            -15.95,
            14.69,
            4.46,
            139.85,
            8.2,
            4.78,
            1.31,
            9.58
           ]
          },
          {
           "axis": {
            "matches": true
           },
           "label": "Situação",
           "values": [
            "medio",
            "medio",
            "medio",
            "medio",
            "medio",
            "medio",
            "medio",
            "medio",
            "medio",
            "medio",
            "medio",
            "medio",
            "medio",
            "medio",
            "medio",
            "medio",
            "medio",
            "medio",
            "medio",
            "medio",
            "medio",
            "medio",
            "medio",
            "medio",
            "medio",
            "medio",
            "medio",
            "medio",
            "medio",
            "medio",
            "medio",
            "medio",
            "medio",
            "medio",
            "medio",
            "medio",
            "medio",
            "medio",
            "medio",
            "medio",
            "medio",
            "medio",
            "medio",
            "medio",
            "medio",
            "medio",
            "medio",
            "medio",
            "medio",
            "medio",
            "medio",
            "medio",
            "medio",
            "medio",
            "medio",
            "medio",
            "medio",
            "medio",
            "medio",
            "medio",
            "medio",
            "medio",
            "medio",
            "medio",
            "medio",
            "medio",
            "medio",
            "medio",
            "medio",
            "medio",
            "medio",
            "medio",
            "medio",
            "medio",
            "medio",
            "medio",
            "medio",
            "medio",
            "medio",
            "medio",
            "medio",
            "medio",
            "medio",
            "medio",
            "medio",
            "medio",
            "medio",
            "medio",
            "medio"
           ]
          }
         ],
         "hovertemplate": "Situação=medio<br>%{xaxis.title.text}=%{x}<br>%{yaxis.title.text}=%{y}<extra></extra>",
         "legendgroup": "medio",
         "marker": {
          "color": "#00cc96",
          "symbol": "circle"
         },
         "name": "medio",
         "showlegend": true,
         "type": "splom"
        }
       ],
       "layout": {
        "dragmode": "select",
        "legend": {
         "title": {
          "text": "Situação"
         },
         "tracegroupgap": 0
        },
        "margin": {
         "t": 60
        },
        "template": {
         "data": {
          "bar": [
           {
            "error_x": {
             "color": "#2a3f5f"
            },
            "error_y": {
             "color": "#2a3f5f"
            },
            "marker": {
             "line": {
              "color": "#E5ECF6",
              "width": 0.5
             },
             "pattern": {
              "fillmode": "overlay",
              "size": 10,
              "solidity": 0.2
             }
            },
            "type": "bar"
           }
          ],
          "barpolar": [
           {
            "marker": {
             "line": {
              "color": "#E5ECF6",
              "width": 0.5
             },
             "pattern": {
              "fillmode": "overlay",
              "size": 10,
              "solidity": 0.2
             }
            },
            "type": "barpolar"
           }
          ],
          "carpet": [
           {
            "aaxis": {
             "endlinecolor": "#2a3f5f",
             "gridcolor": "white",
             "linecolor": "white",
             "minorgridcolor": "white",
             "startlinecolor": "#2a3f5f"
            },
            "baxis": {
             "endlinecolor": "#2a3f5f",
             "gridcolor": "white",
             "linecolor": "white",
             "minorgridcolor": "white",
             "startlinecolor": "#2a3f5f"
            },
            "type": "carpet"
           }
          ],
          "choropleth": [
           {
            "colorbar": {
             "outlinewidth": 0,
             "ticks": ""
            },
            "type": "choropleth"
           }
          ],
          "contour": [
           {
            "colorbar": {
             "outlinewidth": 0,
             "ticks": ""
            },
            "colorscale": [
             [
              0,
              "#0d0887"
             ],
             [
              0.1111111111111111,
              "#46039f"
             ],
             [
              0.2222222222222222,
              "#7201a8"
             ],
             [
              0.3333333333333333,
              "#9c179e"
             ],
             [
              0.4444444444444444,
              "#bd3786"
             ],
             [
              0.5555555555555556,
              "#d8576b"
             ],
             [
              0.6666666666666666,
              "#ed7953"
             ],
             [
              0.7777777777777778,
              "#fb9f3a"
             ],
             [
              0.8888888888888888,
              "#fdca26"
             ],
             [
              1,
              "#f0f921"
             ]
            ],
            "type": "contour"
           }
          ],
          "contourcarpet": [
           {
            "colorbar": {
             "outlinewidth": 0,
             "ticks": ""
            },
            "type": "contourcarpet"
           }
          ],
          "heatmap": [
           {
            "colorbar": {
             "outlinewidth": 0,
             "ticks": ""
            },
            "colorscale": [
             [
              0,
              "#0d0887"
             ],
             [
              0.1111111111111111,
              "#46039f"
             ],
             [
              0.2222222222222222,
              "#7201a8"
             ],
             [
              0.3333333333333333,
              "#9c179e"
             ],
             [
              0.4444444444444444,
              "#bd3786"
             ],
             [
              0.5555555555555556,
              "#d8576b"
             ],
             [
              0.6666666666666666,
              "#ed7953"
             ],
             [
              0.7777777777777778,
              "#fb9f3a"
             ],
             [
              0.8888888888888888,
              "#fdca26"
             ],
             [
              1,
              "#f0f921"
             ]
            ],
            "type": "heatmap"
           }
          ],
          "heatmapgl": [
           {
            "colorbar": {
             "outlinewidth": 0,
             "ticks": ""
            },
            "colorscale": [
             [
              0,
              "#0d0887"
             ],
             [
              0.1111111111111111,
              "#46039f"
             ],
             [
              0.2222222222222222,
              "#7201a8"
             ],
             [
              0.3333333333333333,
              "#9c179e"
             ],
             [
              0.4444444444444444,
              "#bd3786"
             ],
             [
              0.5555555555555556,
              "#d8576b"
             ],
             [
              0.6666666666666666,
              "#ed7953"
             ],
             [
              0.7777777777777778,
              "#fb9f3a"
             ],
             [
              0.8888888888888888,
              "#fdca26"
             ],
             [
              1,
              "#f0f921"
             ]
            ],
            "type": "heatmapgl"
           }
          ],
          "histogram": [
           {
            "marker": {
             "pattern": {
              "fillmode": "overlay",
              "size": 10,
              "solidity": 0.2
             }
            },
            "type": "histogram"
           }
          ],
          "histogram2d": [
           {
            "colorbar": {
             "outlinewidth": 0,
             "ticks": ""
            },
            "colorscale": [
             [
              0,
              "#0d0887"
             ],
             [
              0.1111111111111111,
              "#46039f"
             ],
             [
              0.2222222222222222,
              "#7201a8"
             ],
             [
              0.3333333333333333,
              "#9c179e"
             ],
             [
              0.4444444444444444,
              "#bd3786"
             ],
             [
              0.5555555555555556,
              "#d8576b"
             ],
             [
              0.6666666666666666,
              "#ed7953"
             ],
             [
              0.7777777777777778,
              "#fb9f3a"
             ],
             [
              0.8888888888888888,
              "#fdca26"
             ],
             [
              1,
              "#f0f921"
             ]
            ],
            "type": "histogram2d"
           }
          ],
          "histogram2dcontour": [
           {
            "colorbar": {
             "outlinewidth": 0,
             "ticks": ""
            },
            "colorscale": [
             [
              0,
              "#0d0887"
             ],
             [
              0.1111111111111111,
              "#46039f"
             ],
             [
              0.2222222222222222,
              "#7201a8"
             ],
             [
              0.3333333333333333,
              "#9c179e"
             ],
             [
              0.4444444444444444,
              "#bd3786"
             ],
             [
              0.5555555555555556,
              "#d8576b"
             ],
             [
              0.6666666666666666,
              "#ed7953"
             ],
             [
              0.7777777777777778,
              "#fb9f3a"
             ],
             [
              0.8888888888888888,
              "#fdca26"
             ],
             [
              1,
              "#f0f921"
             ]
            ],
            "type": "histogram2dcontour"
           }
          ],
          "mesh3d": [
           {
            "colorbar": {
             "outlinewidth": 0,
             "ticks": ""
            },
            "type": "mesh3d"
           }
          ],
          "parcoords": [
           {
            "line": {
             "colorbar": {
              "outlinewidth": 0,
              "ticks": ""
             }
            },
            "type": "parcoords"
           }
          ],
          "pie": [
           {
            "automargin": true,
            "type": "pie"
           }
          ],
          "scatter": [
           {
            "fillpattern": {
             "fillmode": "overlay",
             "size": 10,
             "solidity": 0.2
            },
            "type": "scatter"
           }
          ],
          "scatter3d": [
           {
            "line": {
             "colorbar": {
              "outlinewidth": 0,
              "ticks": ""
             }
            },
            "marker": {
             "colorbar": {
              "outlinewidth": 0,
              "ticks": ""
             }
            },
            "type": "scatter3d"
           }
          ],
          "scattercarpet": [
           {
            "marker": {
             "colorbar": {
              "outlinewidth": 0,
              "ticks": ""
             }
            },
            "type": "scattercarpet"
           }
          ],
          "scattergeo": [
           {
            "marker": {
             "colorbar": {
              "outlinewidth": 0,
              "ticks": ""
             }
            },
            "type": "scattergeo"
           }
          ],
          "scattergl": [
           {
            "marker": {
             "colorbar": {
              "outlinewidth": 0,
              "ticks": ""
             }
            },
            "type": "scattergl"
           }
          ],
          "scattermapbox": [
           {
            "marker": {
             "colorbar": {
              "outlinewidth": 0,
              "ticks": ""
             }
            },
            "type": "scattermapbox"
           }
          ],
          "scatterpolar": [
           {
            "marker": {
             "colorbar": {
              "outlinewidth": 0,
              "ticks": ""
             }
            },
            "type": "scatterpolar"
           }
          ],
          "scatterpolargl": [
           {
            "marker": {
             "colorbar": {
              "outlinewidth": 0,
              "ticks": ""
             }
            },
            "type": "scatterpolargl"
           }
          ],
          "scatterternary": [
           {
            "marker": {
             "colorbar": {
              "outlinewidth": 0,
              "ticks": ""
             }
            },
            "type": "scatterternary"
           }
          ],
          "surface": [
           {
            "colorbar": {
             "outlinewidth": 0,
             "ticks": ""
            },
            "colorscale": [
             [
              0,
              "#0d0887"
             ],
             [
              0.1111111111111111,
              "#46039f"
             ],
             [
              0.2222222222222222,
              "#7201a8"
             ],
             [
              0.3333333333333333,
              "#9c179e"
             ],
             [
              0.4444444444444444,
              "#bd3786"
             ],
             [
              0.5555555555555556,
              "#d8576b"
             ],
             [
              0.6666666666666666,
              "#ed7953"
             ],
             [
              0.7777777777777778,
              "#fb9f3a"
             ],
             [
              0.8888888888888888,
              "#fdca26"
             ],
             [
              1,
              "#f0f921"
             ]
            ],
            "type": "surface"
           }
          ],
          "table": [
           {
            "cells": {
             "fill": {
              "color": "#EBF0F8"
             },
             "line": {
              "color": "white"
             }
            },
            "header": {
             "fill": {
              "color": "#C8D4E3"
             },
             "line": {
              "color": "white"
             }
            },
            "type": "table"
           }
          ]
         },
         "layout": {
          "annotationdefaults": {
           "arrowcolor": "#2a3f5f",
           "arrowhead": 0,
           "arrowwidth": 1
          },
          "autotypenumbers": "strict",
          "coloraxis": {
           "colorbar": {
            "outlinewidth": 0,
            "ticks": ""
           }
          },
          "colorscale": {
           "diverging": [
            [
             0,
             "#8e0152"
            ],
            [
             0.1,
             "#c51b7d"
            ],
            [
             0.2,
             "#de77ae"
            ],
            [
             0.3,
             "#f1b6da"
            ],
            [
             0.4,
             "#fde0ef"
            ],
            [
             0.5,
             "#f7f7f7"
            ],
            [
             0.6,
             "#e6f5d0"
            ],
            [
             0.7,
             "#b8e186"
            ],
            [
             0.8,
             "#7fbc41"
            ],
            [
             0.9,
             "#4d9221"
            ],
            [
             1,
             "#276419"
            ]
           ],
           "sequential": [
            [
             0,
             "#0d0887"
            ],
            [
             0.1111111111111111,
             "#46039f"
            ],
            [
             0.2222222222222222,
             "#7201a8"
            ],
            [
             0.3333333333333333,
             "#9c179e"
            ],
            [
             0.4444444444444444,
             "#bd3786"
            ],
            [
             0.5555555555555556,
             "#d8576b"
            ],
            [
             0.6666666666666666,
             "#ed7953"
            ],
            [
             0.7777777777777778,
             "#fb9f3a"
            ],
            [
             0.8888888888888888,
             "#fdca26"
            ],
            [
             1,
             "#f0f921"
            ]
           ],
           "sequentialminus": [
            [
             0,
             "#0d0887"
            ],
            [
             0.1111111111111111,
             "#46039f"
            ],
            [
             0.2222222222222222,
             "#7201a8"
            ],
            [
             0.3333333333333333,
             "#9c179e"
            ],
            [
             0.4444444444444444,
             "#bd3786"
            ],
            [
             0.5555555555555556,
             "#d8576b"
            ],
            [
             0.6666666666666666,
             "#ed7953"
            ],
            [
             0.7777777777777778,
             "#fb9f3a"
            ],
            [
             0.8888888888888888,
             "#fdca26"
            ],
            [
             1,
             "#f0f921"
            ]
           ]
          },
          "colorway": [
           "#636efa",
           "#EF553B",
           "#00cc96",
           "#ab63fa",
           "#FFA15A",
           "#19d3f3",
           "#FF6692",
           "#B6E880",
           "#FF97FF",
           "#FECB52"
          ],
          "font": {
           "color": "#2a3f5f"
          },
          "geo": {
           "bgcolor": "white",
           "lakecolor": "white",
           "landcolor": "#E5ECF6",
           "showlakes": true,
           "showland": true,
           "subunitcolor": "white"
          },
          "hoverlabel": {
           "align": "left"
          },
          "hovermode": "closest",
          "mapbox": {
           "style": "light"
          },
          "paper_bgcolor": "white",
          "plot_bgcolor": "#E5ECF6",
          "polar": {
           "angularaxis": {
            "gridcolor": "white",
            "linecolor": "white",
            "ticks": ""
           },
           "bgcolor": "#E5ECF6",
           "radialaxis": {
            "gridcolor": "white",
            "linecolor": "white",
            "ticks": ""
           }
          },
          "scene": {
           "xaxis": {
            "backgroundcolor": "#E5ECF6",
            "gridcolor": "white",
            "gridwidth": 2,
            "linecolor": "white",
            "showbackground": true,
            "ticks": "",
            "zerolinecolor": "white"
           },
           "yaxis": {
            "backgroundcolor": "#E5ECF6",
            "gridcolor": "white",
            "gridwidth": 2,
            "linecolor": "white",
            "showbackground": true,
            "ticks": "",
            "zerolinecolor": "white"
           },
           "zaxis": {
            "backgroundcolor": "#E5ECF6",
            "gridcolor": "white",
            "gridwidth": 2,
            "linecolor": "white",
            "showbackground": true,
            "ticks": "",
            "zerolinecolor": "white"
           }
          },
          "shapedefaults": {
           "line": {
            "color": "#2a3f5f"
           }
          },
          "ternary": {
           "aaxis": {
            "gridcolor": "white",
            "linecolor": "white",
            "ticks": ""
           },
           "baxis": {
            "gridcolor": "white",
            "linecolor": "white",
            "ticks": ""
           },
           "bgcolor": "#E5ECF6",
           "caxis": {
            "gridcolor": "white",
            "linecolor": "white",
            "ticks": ""
           }
          },
          "title": {
           "x": 0.05
          },
          "xaxis": {
           "automargin": true,
           "gridcolor": "white",
           "linecolor": "white",
           "ticks": "",
           "title": {
            "standoff": 15
           },
           "zerolinecolor": "white",
           "zerolinewidth": 2
          },
          "yaxis": {
           "automargin": true,
           "gridcolor": "white",
           "linecolor": "white",
           "ticks": "",
           "title": {
            "standoff": 15
           },
           "zerolinecolor": "white",
           "zerolinewidth": 2
          }
         }
        }
       }
      }
     },
     "metadata": {},
     "output_type": "display_data"
    }
   ],
   "source": [
    "grafico = px.scatter_matrix(df, dimensions=[\"LPA\", \"Div Liquida/EBITDA\", \"Margem Liquida\", \"Situação\"], color='Situação')\n",
    "grafico.show()"
   ]
  },
  {
   "cell_type": "code",
   "execution_count": 8,
   "metadata": {},
   "outputs": [
    {
     "data": {
      "application/vnd.plotly.v1+json": {
       "config": {
        "plotlyServerURL": "https://plot.ly"
       },
       "data": [
        {
         "dimensions": [
          {
           "axis": {
            "matches": true
           },
           "label": "LPA",
           "values": [
            0.57,
            0.16,
            0.21,
            0.6,
            0.44,
            -1.98,
            0.44,
            0.04,
            null,
            0.35,
            null,
            0.51,
            -63.13,
            0.13,
            1.53,
            14.8,
            -0.75,
            0.07,
            2.26,
            -0.26,
            -0.12,
            0.34,
            1.09,
            0.1,
            -0.66,
            -5.61,
            -0.45,
            -0.82,
            -3.51,
            1.23,
            -1.47,
            null,
            -3.4,
            null,
            0.15,
            -8.56,
            null,
            0,
            -0.82,
            -0.26,
            0.16,
            -0.05,
            0.93,
            1.88,
            0.04,
            -0.2,
            -9.8,
            null,
            -17.71,
            1,
            -2.48,
            -0.08,
            null,
            -9.39,
            0.66,
            null,
            1.29,
            -0.75,
            -2.94,
            -17.68,
            0.37,
            -0.7,
            null,
            null,
            -33.84,
            -22.43,
            0.25,
            null,
            1.94,
            -0.89,
            -0.35,
            null,
            1.62,
            0.8,
            0.12,
            0.39,
            null,
            0.1,
            0.8,
            -0.81,
            -15.14,
            3,
            -1.59,
            0.29,
            -41.44,
            -7.26,
            null,
            null,
            0.25,
            160.78,
            null,
            -1.31,
            -14.93,
            -2.4,
            -8.97,
            -0.62,
            -31.24,
            null,
            6.77,
            null,
            -1.7,
            0.26,
            -1.07,
            -0.9,
            null,
            -15.63,
            2.01,
            4.02,
            null,
            -0.24,
            0.75,
            null,
            0.86,
            -0.01,
            -1.02,
            -40.06,
            -0.72,
            0.5,
            -17.76,
            1.86,
            200.66,
            0.85,
            -1.55,
            63.65,
            0.87,
            -4.44,
            null,
            0.19,
            null,
            0.46,
            -4.38,
            -179.77,
            null,
            null,
            -313.53,
            -8.62,
            0.42,
            -40.04,
            null,
            0.01,
            -0.09,
            0.1,
            null,
            0.58,
            null,
            -1.13,
            0.1,
            -7.14,
            -3.05,
            -0.15,
            -0.01,
            null,
            -1.71,
            null,
            0,
            -730.91,
            null,
            0.49,
            0,
            -806.67,
            -2.44,
            -8.3,
            -0.12,
            -6.87,
            0.92,
            null,
            0.39,
            -2.08,
            0.14,
            -6.81,
            -58.01,
            0.15,
            -258.37,
            -5.77,
            -11.92,
            null,
            -19.96,
            0.87,
            1.54,
            0.04,
            -0.25,
            -0.36,
            -60.96,
            0.19,
            -4.79,
            0.21,
            -0.52,
            null
           ]
          },
          {
           "axis": {
            "matches": true
           },
           "label": "Margem Bruta",
           "values": [
            null,
            null,
            null,
            null,
            null,
            null,
            null,
            null,
            null,
            31,
            null,
            null,
            null,
            null,
            null,
            null,
            null,
            null,
            null,
            null,
            null,
            null,
            null,
            106,
            94.58,
            null,
            25.2,
            null,
            null,
            null,
            null,
            null,
            null,
            null,
            null,
            null,
            null,
            null,
            null,
            14.26,
            null,
            null,
            61.55,
            null,
            null,
            null,
            null,
            null,
            null,
            34.65,
            null,
            null,
            null,
            null,
            null,
            null,
            null,
            null,
            null,
            null,
            null,
            null,
            null,
            null,
            null,
            null,
            null,
            null,
            null,
            null,
            null,
            null,
            null,
            20.78,
            null,
            null,
            null,
            null,
            null,
            null,
            null,
            23.53,
            34.08,
            27.68,
            25.47,
            null,
            null,
            null,
            null,
            null,
            null,
            null,
            null,
            null,
            null,
            null,
            null,
            null,
            null,
            null,
            null,
            13.64,
            null,
            null,
            null,
            null,
            29.58,
            null,
            null,
            82.19,
            null,
            null,
            null,
            null,
            null,
            null,
            null,
            null,
            null,
            null,
            null,
            null,
            null,
            54.07,
            null,
            null,
            null,
            null,
            null,
            null,
            null,
            null,
            null,
            null,
            null,
            46.45,
            null,
            null,
            null,
            34.23,
            null,
            null,
            null,
            54.57,
            null,
            null,
            null,
            null,
            53.45,
            63.83,
            null,
            null,
            null,
            null,
            null,
            null,
            null,
            null,
            null,
            null,
            null,
            null,
            91,
            null,
            28.9,
            null,
            19.79,
            null,
            100,
            null,
            null,
            null,
            null,
            null,
            null,
            null,
            null,
            null,
            null,
            null,
            9.36,
            42.69,
            null,
            null,
            null,
            661,
            null,
            null
           ]
          },
          {
           "axis": {
            "matches": true
           },
           "label": "Div Liquida/EBITDA",
           "values": [
            null,
            null,
            null,
            null,
            59,
            null,
            null,
            null,
            null,
            2.83,
            null,
            null,
            null,
            null,
            null,
            null,
            null,
            null,
            null,
            null,
            null,
            null,
            null,
            4.93,
            null,
            null,
            2.97,
            null,
            null,
            null,
            null,
            null,
            null,
            null,
            null,
            null,
            null,
            null,
            null,
            0.22,
            null,
            null,
            0.52,
            null,
            null,
            null,
            null,
            null,
            null,
            4.12,
            null,
            null,
            null,
            null,
            null,
            null,
            null,
            null,
            null,
            null,
            null,
            null,
            null,
            null,
            null,
            null,
            null,
            null,
            null,
            null,
            null,
            null,
            null,
            0.88,
            null,
            null,
            null,
            null,
            null,
            null,
            null,
            6.47,
            3.04,
            1.32,
            11.16,
            null,
            null,
            null,
            null,
            null,
            null,
            null,
            null,
            null,
            null,
            null,
            null,
            null,
            null,
            null,
            null,
            4.38,
            null,
            null,
            null,
            null,
            1.69,
            null,
            null,
            null,
            null,
            null,
            null,
            null,
            null,
            null,
            null,
            null,
            null,
            null,
            null,
            null,
            null,
            1.82,
            null,
            null,
            null,
            null,
            null,
            null,
            null,
            null,
            null,
            null,
            null,
            3.42,
            null,
            null,
            null,
            2.15,
            null,
            null,
            null,
            null,
            null,
            null,
            null,
            null,
            10.33,
            2.47,
            null,
            null,
            null,
            null,
            null,
            null,
            null,
            null,
            null,
            null,
            null,
            null,
            6.76,
            null,
            3.86,
            null,
            1.27,
            null,
            null,
            null,
            null,
            null,
            null,
            null,
            null,
            null,
            null,
            null,
            null,
            null,
            2.94,
            null,
            null,
            null,
            null,
            null,
            null,
            null
           ]
          },
          {
           "axis": {
            "matches": true
           },
           "label": "P/L",
           "values": [
            24.71,
            31.55,
            21.69,
            5.65,
            null,
            -1.45,
            null,
            49,
            null,
            28.2,
            null,
            7.4,
            -0.6,
            65.27,
            5.37,
            null,
            -1.9,
            8.91,
            2.14,
            -8.07,
            -30.29,
            12.89,
            2.1,
            88.89,
            -2.45,
            -1.03,
            -89.94,
            -1.92,
            null,
            3.74,
            -3.47,
            null,
            -2.38,
            null,
            null,
            -0.6,
            null,
            null,
            -1.44,
            -88.3,
            11.41,
            -0.38,
            19.59,
            6.62,
            306,
            -21.29,
            -0.41,
            null,
            -0.02,
            7.44,
            -2.24,
            -27.63,
            null,
            null,
            null,
            null,
            3,
            -2.05,
            -0.16,
            -0.1,
            null,
            -1.72,
            null,
            null,
            -0.29,
            -0.35,
            25.89,
            null,
            18.06,
            -24.34,
            -15.95,
            null,
            5.61,
            19.83,
            31.19,
            10.1,
            null,
            14.32,
            4.69,
            -0.11,
            -0.26,
            9.4,
            -1.13,
            17.55,
            -0.63,
            -0.78,
            null,
            null,
            13.86,
            0.02,
            null,
            -2.14,
            -0.48,
            -0.51,
            -0.19,
            -6.07,
            -0.12,
            null,
            5.98,
            null,
            -9.2,
            38.75,
            -2.57,
            -2.16,
            null,
            -0.37,
            23.51,
            0.9,
            null,
            -19.15,
            3.81,
            null,
            4.98,
            null,
            -7.08,
            -0.51,
            -8.24,
            4.07,
            -0.16,
            8.32,
            null,
            11.9,
            -1.77,
            0.07,
            8.4,
            -2.93,
            null,
            47.23,
            null,
            84.52,
            -1.36,
            null,
            null,
            null,
            -0.03,
            -0.43,
            9.69,
            -0.1,
            null,
            229.01,
            null,
            35.7,
            null,
            11.04,
            null,
            -1.05,
            29.61,
            -0.65,
            -0.5,
            -31.3,
            null,
            null,
            -3.42,
            null,
            null,
            -0.01,
            null,
            19.34,
            null,
            -0.39,
            -11.74,
            -0.95,
            -83.33,
            null,
            16.88,
            null,
            17.1,
            null,
            29.63,
            -0.63,
            -0.16,
            8.83,
            -0.02,
            -5.89,
            -5.44,
            null,
            -0.17,
            4.32,
            7.84,
            69.16,
            -23,
            -5.56,
            -0.03,
            23.25,
            null,
            15.64,
            -7.35,
            null
           ]
          }
         ],
         "hovertemplate": "Situação=ruim<br>%{xaxis.title.text}=%{x}<br>%{yaxis.title.text}=%{y}<extra></extra>",
         "legendgroup": "ruim",
         "marker": {
          "color": "#636efa",
          "symbol": "circle"
         },
         "name": "ruim",
         "showlegend": true,
         "type": "splom"
        },
        {
         "dimensions": [
          {
           "axis": {
            "matches": true
           },
           "label": "LPA",
           "values": [
            0.18,
            -0.05,
            0.76,
            1.31,
            0.83,
            0.92,
            0.25,
            2.14,
            2.72,
            2.77,
            4.32,
            null,
            0.99,
            24.19,
            0.26,
            0.7,
            0.35,
            null,
            2.01,
            null,
            0.81,
            2.6,
            1.12,
            0.27,
            5.05,
            2.44,
            1.23,
            0.79,
            7.08,
            -12.8,
            3.46,
            5.21,
            4.31,
            3.42,
            1.24,
            5.99,
            1.54,
            null,
            3.41,
            0.86,
            -0.1,
            0.84,
            0.61,
            0.43,
            1.47,
            -0.43,
            0.08,
            9.87,
            null,
            -1.7,
            1.91,
            0.42,
            4.39,
            1.15,
            1.41,
            2.37,
            1.46,
            0.93,
            -1.68,
            3.07,
            5.1,
            1.86,
            3.58,
            1.11,
            0.52,
            1.15,
            -1.53,
            0.02,
            0.97,
            0.42,
            2.31,
            4.02,
            -3.23,
            7.84,
            1.29,
            1.48,
            0.41,
            18.35,
            -0.63,
            -1,
            2.82,
            -0.28,
            1.49,
            1.41,
            -0.79,
            0.68,
            4.73,
            1.79,
            -1.67,
            2.42,
            0.8,
            0.78,
            2.82,
            1.21,
            2.84,
            1.49,
            0.7,
            -34.5,
            null
           ]
          },
          {
           "axis": {
            "matches": true
           },
           "label": "Margem Bruta",
           "values": [
            87.95,
            70.48,
            43.16,
            42.48,
            66.36,
            76.41,
            null,
            null,
            null,
            null,
            null,
            null,
            null,
            null,
            null,
            98.84,
            91.86,
            null,
            null,
            null,
            48.05,
            71.78,
            null,
            33.49,
            21.75,
            null,
            null,
            23.99,
            30.95,
            null,
            23.98,
            null,
            37.61,
            36.43,
            57.93,
            null,
            62.75,
            null,
            23.63,
            27.43,
            null,
            24.18,
            32.44,
            null,
            101,
            null,
            null,
            null,
            null,
            51.23,
            null,
            null,
            29.56,
            null,
            50.81,
            49.15,
            29.83,
            65.4,
            12.64,
            51.53,
            58.91,
            66.56,
            null,
            25.61,
            37.46,
            45.69,
            23.15,
            29.79,
            58.2,
            70.34,
            39.06,
            30.65,
            13.66,
            null,
            30.93,
            76.03,
            51.29,
            35.62,
            87,
            30.54,
            100,
            null,
            74.13,
            26.83,
            25.65,
            36.63,
            47.02,
            58.2,
            27.06,
            48.38,
            64.51,
            90.63,
            7.91,
            37.66,
            42.08,
            null,
            878,
            null,
            null
           ]
          },
          {
           "axis": {
            "matches": true
           },
           "label": "Div Liquida/EBITDA",
           "values": [
            2.03,
            2.6,
            0.2,
            0.34,
            null,
            2.91,
            null,
            null,
            null,
            null,
            null,
            null,
            null,
            null,
            null,
            null,
            3.71,
            null,
            null,
            null,
            2.53,
            3.38,
            null,
            2.41,
            1.39,
            null,
            null,
            null,
            2.02,
            null,
            1.53,
            null,
            2.31,
            2.4,
            1.96,
            null,
            1.15,
            null,
            2.7,
            3.23,
            null,
            0.87,
            3.04,
            null,
            0.42,
            null,
            null,
            null,
            null,
            2.33,
            null,
            null,
            1.97,
            null,
            0.39,
            0.83,
            1.15,
            null,
            4.61,
            null,
            0.45,
            2.21,
            null,
            0.12,
            2.78,
            4.74,
            3.93,
            1.94,
            0.9,
            0.78,
            0.58,
            1.81,
            4.94,
            null,
            1.65,
            2.23,
            null,
            null,
            null,
            7.82,
            null,
            null,
            0.35,
            0.11,
            7.25,
            0.5,
            0.87,
            0.59,
            5.64,
            0.022,
            0.88,
            2.62,
            1.32,
            3.33,
            1.58,
            null,
            0.49,
            null,
            null
           ]
          },
          {
           "axis": {
            "matches": true
           },
           "label": "P/L",
           "values": [
            14.92,
            -312.21,
            14.88,
            24.03,
            21.91,
            7.42,
            61.92,
            8.04,
            11.31,
            11.57,
            5.65,
            null,
            12.17,
            12.5,
            26.97,
            27.99,
            42.07,
            null,
            13.99,
            null,
            20.98,
            7.83,
            0.02,
            37.1,
            8.79,
            9.85,
            12.45,
            13.37,
            6.38,
            -2.77,
            8.57,
            6.99,
            7.13,
            10.78,
            7.87,
            9.09,
            16.06,
            null,
            10.63,
            29.9,
            -125.42,
            11.56,
            21.53,
            27.13,
            20.66,
            -15.58,
            284.36,
            43.1,
            null,
            -5.52,
            10.36,
            136.47,
            13.28,
            8.57,
            13.88,
            14.63,
            30.94,
            20.31,
            -5.6,
            6.26,
            15.82,
            15.72,
            9.92,
            8.25,
            6.71,
            12.93,
            -13.7,
            861.24,
            30.4,
            42.56,
            21.07,
            55.37,
            -1.34,
            22.97,
            12.33,
            45.8,
            28.16,
            2.31,
            -14.35,
            -14.15,
            10.19,
            -40.51,
            15.15,
            49.3,
            -11.1,
            26.18,
            14.58,
            13.41,
            -1.58,
            17.46,
            38.02,
            9.58,
            24.94,
            6.81,
            9.44,
            16.74,
            24.05,
            -0.2,
            null
           ]
          }
         ],
         "hovertemplate": "Situação=boa<br>%{xaxis.title.text}=%{x}<br>%{yaxis.title.text}=%{y}<extra></extra>",
         "legendgroup": "boa",
         "marker": {
          "color": "#EF553B",
          "symbol": "circle"
         },
         "name": "boa",
         "showlegend": true,
         "type": "splom"
        },
        {
         "dimensions": [
          {
           "axis": {
            "matches": true
           },
           "label": "LPA",
           "values": [
            2.25,
            -1.42,
            3.31,
            1.03,
            4.42,
            1.69,
            1.61,
            8.48,
            1.8,
            -12.26,
            0.67,
            2.5,
            4.16,
            -4.04,
            44.06,
            1.62,
            9.29,
            0.95,
            -53.1,
            8.78,
            -0.55,
            1.23,
            40.31,
            -43.19,
            0.26,
            30.04,
            -0.9,
            0.29,
            -0.01,
            0.04,
            0.56,
            1.37,
            0.13,
            -31.58,
            0.2,
            1.16,
            -0.21,
            0.18,
            -0.46,
            0.21,
            -4.47,
            2.11,
            0.26,
            -0.32,
            0.93,
            0.64,
            -0.46,
            0.78,
            -6.09,
            -0.48,
            2.83,
            -0.91,
            -0.84,
            8.92,
            0.03,
            -3.83,
            0.24,
            -0.43,
            -41.43,
            -27.44,
            -0.56,
            3.17,
            0.59,
            1.31,
            -0.09,
            0.86,
            1.6,
            0.42,
            -110.4,
            -1.51,
            -0.03,
            -30.78,
            -0.28,
            -0.03,
            1.33,
            0.53,
            -2.7,
            -1.87,
            0.16,
            3.25,
            0.61,
            -8.26,
            -0.03,
            0.15,
            -19.93,
            0.31,
            -1.26,
            0,
            1.36
           ]
          },
          {
           "axis": {
            "matches": true
           },
           "label": "Margem Bruta",
           "values": [
            null,
            31.89,
            null,
            null,
            null,
            null,
            null,
            null,
            null,
            100,
            null,
            15.73,
            null,
            25.31,
            null,
            null,
            null,
            null,
            null,
            null,
            null,
            44.85,
            null,
            null,
            null,
            60.54,
            null,
            null,
            24.74,
            33.23,
            null,
            26.93,
            9.84,
            null,
            null,
            33.61,
            39.79,
            25.83,
            24.13,
            16.66,
            null,
            44.8,
            38.14,
            27.13,
            70.83,
            14.96,
            null,
            null,
            null,
            42.83,
            null,
            null,
            18.68,
            null,
            25.93,
            null,
            19.1,
            null,
            null,
            null,
            50.89,
            31.61,
            null,
            69.71,
            54.8,
            null,
            null,
            null,
            23.85,
            null,
            22.83,
            16.53,
            60.64,
            34.79,
            77.14,
            28.07,
            null,
            39.69,
            23.91,
            78.34,
            16.7,
            null,
            53.18,
            null,
            null,
            49.05,
            18.03,
            31.34,
            26.75
           ]
          },
          {
           "axis": {
            "matches": true
           },
           "label": "Div Liquida/EBITDA",
           "values": [
            null,
            2.95,
            null,
            null,
            null,
            null,
            null,
            null,
            11.47,
            null,
            null,
            2.67,
            null,
            1.65,
            null,
            null,
            null,
            null,
            null,
            null,
            null,
            null,
            null,
            null,
            null,
            1.07,
            null,
            null,
            2.72,
            1.53,
            null,
            1.72,
            2.2,
            null,
            null,
            0.71,
            1.36,
            4.53,
            8.84,
            9.67,
            null,
            null,
            1.77,
            3.79,
            3.1,
            3.02,
            null,
            null,
            null,
            2.72,
            null,
            null,
            4.26,
            null,
            1.08,
            null,
            2.95,
            null,
            null,
            null,
            1.8,
            null,
            null,
            1.03,
            4.77,
            null,
            null,
            null,
            7.92,
            null,
            2.83,
            27.45,
            3.52,
            0.85,
            2.69,
            3.92,
            null,
            6.7,
            3.05,
            0.93,
            null,
            null,
            2.54,
            null,
            null,
            0.24,
            1.82,
            2.47,
            1.09
           ]
          },
          {
           "axis": {
            "matches": true
           },
           "label": "P/L",
           "values": [
            20.41,
            -8.46,
            14.15,
            5.44,
            6.62,
            5.28,
            11.49,
            3.3,
            9.86,
            -1.67,
            19.08,
            14.68,
            6.31,
            -18.37,
            0.36,
            14.85,
            2.94,
            18.12,
            -0.75,
            10.81,
            -17.35,
            15.08,
            3.47,
            -1.85,
            29.84,
            1.97,
            -9,
            30.79,
            -866.7,
            241.32,
            20.53,
            9.87,
            122.99,
            -0.99,
            24.17,
            14.42,
            -6.4,
            25.7,
            -20.24,
            47.53,
            -3.02,
            10.71,
            51.53,
            -7.81,
            36.29,
            23.53,
            -13.97,
            28.49,
            -1.61,
            -4.83,
            7.05,
            -7.9,
            -30.3,
            3.04,
            648.27,
            -0.34,
            9.33,
            -19.36,
            -0.42,
            -0.65,
            -6.18,
            12.33,
            23.77,
            23.08,
            -269.74,
            17.38,
            7.04,
            3.07,
            -0.01,
            -2.32,
            -123.69,
            -0.2,
            -49.16,
            -73.93,
            24.74,
            32.47,
            -32.18,
            -3.18,
            122.32,
            6.77,
            15.24,
            -1.63,
            -180.56,
            86.13,
            -1.88,
            32.6,
            -12.99,
            null,
            16.51
           ]
          }
         ],
         "hovertemplate": "Situação=medio<br>%{xaxis.title.text}=%{x}<br>%{yaxis.title.text}=%{y}<extra></extra>",
         "legendgroup": "medio",
         "marker": {
          "color": "#00cc96",
          "symbol": "circle"
         },
         "name": "medio",
         "showlegend": true,
         "type": "splom"
        }
       ],
       "layout": {
        "dragmode": "select",
        "legend": {
         "title": {
          "text": "Situação"
         },
         "tracegroupgap": 0
        },
        "margin": {
         "t": 60
        },
        "template": {
         "data": {
          "bar": [
           {
            "error_x": {
             "color": "#2a3f5f"
            },
            "error_y": {
             "color": "#2a3f5f"
            },
            "marker": {
             "line": {
              "color": "#E5ECF6",
              "width": 0.5
             },
             "pattern": {
              "fillmode": "overlay",
              "size": 10,
              "solidity": 0.2
             }
            },
            "type": "bar"
           }
          ],
          "barpolar": [
           {
            "marker": {
             "line": {
              "color": "#E5ECF6",
              "width": 0.5
             },
             "pattern": {
              "fillmode": "overlay",
              "size": 10,
              "solidity": 0.2
             }
            },
            "type": "barpolar"
           }
          ],
          "carpet": [
           {
            "aaxis": {
             "endlinecolor": "#2a3f5f",
             "gridcolor": "white",
             "linecolor": "white",
             "minorgridcolor": "white",
             "startlinecolor": "#2a3f5f"
            },
            "baxis": {
             "endlinecolor": "#2a3f5f",
             "gridcolor": "white",
             "linecolor": "white",
             "minorgridcolor": "white",
             "startlinecolor": "#2a3f5f"
            },
            "type": "carpet"
           }
          ],
          "choropleth": [
           {
            "colorbar": {
             "outlinewidth": 0,
             "ticks": ""
            },
            "type": "choropleth"
           }
          ],
          "contour": [
           {
            "colorbar": {
             "outlinewidth": 0,
             "ticks": ""
            },
            "colorscale": [
             [
              0,
              "#0d0887"
             ],
             [
              0.1111111111111111,
              "#46039f"
             ],
             [
              0.2222222222222222,
              "#7201a8"
             ],
             [
              0.3333333333333333,
              "#9c179e"
             ],
             [
              0.4444444444444444,
              "#bd3786"
             ],
             [
              0.5555555555555556,
              "#d8576b"
             ],
             [
              0.6666666666666666,
              "#ed7953"
             ],
             [
              0.7777777777777778,
              "#fb9f3a"
             ],
             [
              0.8888888888888888,
              "#fdca26"
             ],
             [
              1,
              "#f0f921"
             ]
            ],
            "type": "contour"
           }
          ],
          "contourcarpet": [
           {
            "colorbar": {
             "outlinewidth": 0,
             "ticks": ""
            },
            "type": "contourcarpet"
           }
          ],
          "heatmap": [
           {
            "colorbar": {
             "outlinewidth": 0,
             "ticks": ""
            },
            "colorscale": [
             [
              0,
              "#0d0887"
             ],
             [
              0.1111111111111111,
              "#46039f"
             ],
             [
              0.2222222222222222,
              "#7201a8"
             ],
             [
              0.3333333333333333,
              "#9c179e"
             ],
             [
              0.4444444444444444,
              "#bd3786"
             ],
             [
              0.5555555555555556,
              "#d8576b"
             ],
             [
              0.6666666666666666,
              "#ed7953"
             ],
             [
              0.7777777777777778,
              "#fb9f3a"
             ],
             [
              0.8888888888888888,
              "#fdca26"
             ],
             [
              1,
              "#f0f921"
             ]
            ],
            "type": "heatmap"
           }
          ],
          "heatmapgl": [
           {
            "colorbar": {
             "outlinewidth": 0,
             "ticks": ""
            },
            "colorscale": [
             [
              0,
              "#0d0887"
             ],
             [
              0.1111111111111111,
              "#46039f"
             ],
             [
              0.2222222222222222,
              "#7201a8"
             ],
             [
              0.3333333333333333,
              "#9c179e"
             ],
             [
              0.4444444444444444,
              "#bd3786"
             ],
             [
              0.5555555555555556,
              "#d8576b"
             ],
             [
              0.6666666666666666,
              "#ed7953"
             ],
             [
              0.7777777777777778,
              "#fb9f3a"
             ],
             [
              0.8888888888888888,
              "#fdca26"
             ],
             [
              1,
              "#f0f921"
             ]
            ],
            "type": "heatmapgl"
           }
          ],
          "histogram": [
           {
            "marker": {
             "pattern": {
              "fillmode": "overlay",
              "size": 10,
              "solidity": 0.2
             }
            },
            "type": "histogram"
           }
          ],
          "histogram2d": [
           {
            "colorbar": {
             "outlinewidth": 0,
             "ticks": ""
            },
            "colorscale": [
             [
              0,
              "#0d0887"
             ],
             [
              0.1111111111111111,
              "#46039f"
             ],
             [
              0.2222222222222222,
              "#7201a8"
             ],
             [
              0.3333333333333333,
              "#9c179e"
             ],
             [
              0.4444444444444444,
              "#bd3786"
             ],
             [
              0.5555555555555556,
              "#d8576b"
             ],
             [
              0.6666666666666666,
              "#ed7953"
             ],
             [
              0.7777777777777778,
              "#fb9f3a"
             ],
             [
              0.8888888888888888,
              "#fdca26"
             ],
             [
              1,
              "#f0f921"
             ]
            ],
            "type": "histogram2d"
           }
          ],
          "histogram2dcontour": [
           {
            "colorbar": {
             "outlinewidth": 0,
             "ticks": ""
            },
            "colorscale": [
             [
              0,
              "#0d0887"
             ],
             [
              0.1111111111111111,
              "#46039f"
             ],
             [
              0.2222222222222222,
              "#7201a8"
             ],
             [
              0.3333333333333333,
              "#9c179e"
             ],
             [
              0.4444444444444444,
              "#bd3786"
             ],
             [
              0.5555555555555556,
              "#d8576b"
             ],
             [
              0.6666666666666666,
              "#ed7953"
             ],
             [
              0.7777777777777778,
              "#fb9f3a"
             ],
             [
              0.8888888888888888,
              "#fdca26"
             ],
             [
              1,
              "#f0f921"
             ]
            ],
            "type": "histogram2dcontour"
           }
          ],
          "mesh3d": [
           {
            "colorbar": {
             "outlinewidth": 0,
             "ticks": ""
            },
            "type": "mesh3d"
           }
          ],
          "parcoords": [
           {
            "line": {
             "colorbar": {
              "outlinewidth": 0,
              "ticks": ""
             }
            },
            "type": "parcoords"
           }
          ],
          "pie": [
           {
            "automargin": true,
            "type": "pie"
           }
          ],
          "scatter": [
           {
            "fillpattern": {
             "fillmode": "overlay",
             "size": 10,
             "solidity": 0.2
            },
            "type": "scatter"
           }
          ],
          "scatter3d": [
           {
            "line": {
             "colorbar": {
              "outlinewidth": 0,
              "ticks": ""
             }
            },
            "marker": {
             "colorbar": {
              "outlinewidth": 0,
              "ticks": ""
             }
            },
            "type": "scatter3d"
           }
          ],
          "scattercarpet": [
           {
            "marker": {
             "colorbar": {
              "outlinewidth": 0,
              "ticks": ""
             }
            },
            "type": "scattercarpet"
           }
          ],
          "scattergeo": [
           {
            "marker": {
             "colorbar": {
              "outlinewidth": 0,
              "ticks": ""
             }
            },
            "type": "scattergeo"
           }
          ],
          "scattergl": [
           {
            "marker": {
             "colorbar": {
              "outlinewidth": 0,
              "ticks": ""
             }
            },
            "type": "scattergl"
           }
          ],
          "scattermapbox": [
           {
            "marker": {
             "colorbar": {
              "outlinewidth": 0,
              "ticks": ""
             }
            },
            "type": "scattermapbox"
           }
          ],
          "scatterpolar": [
           {
            "marker": {
             "colorbar": {
              "outlinewidth": 0,
              "ticks": ""
             }
            },
            "type": "scatterpolar"
           }
          ],
          "scatterpolargl": [
           {
            "marker": {
             "colorbar": {
              "outlinewidth": 0,
              "ticks": ""
             }
            },
            "type": "scatterpolargl"
           }
          ],
          "scatterternary": [
           {
            "marker": {
             "colorbar": {
              "outlinewidth": 0,
              "ticks": ""
             }
            },
            "type": "scatterternary"
           }
          ],
          "surface": [
           {
            "colorbar": {
             "outlinewidth": 0,
             "ticks": ""
            },
            "colorscale": [
             [
              0,
              "#0d0887"
             ],
             [
              0.1111111111111111,
              "#46039f"
             ],
             [
              0.2222222222222222,
              "#7201a8"
             ],
             [
              0.3333333333333333,
              "#9c179e"
             ],
             [
              0.4444444444444444,
              "#bd3786"
             ],
             [
              0.5555555555555556,
              "#d8576b"
             ],
             [
              0.6666666666666666,
              "#ed7953"
             ],
             [
              0.7777777777777778,
              "#fb9f3a"
             ],
             [
              0.8888888888888888,
              "#fdca26"
             ],
             [
              1,
              "#f0f921"
             ]
            ],
            "type": "surface"
           }
          ],
          "table": [
           {
            "cells": {
             "fill": {
              "color": "#EBF0F8"
             },
             "line": {
              "color": "white"
             }
            },
            "header": {
             "fill": {
              "color": "#C8D4E3"
             },
             "line": {
              "color": "white"
             }
            },
            "type": "table"
           }
          ]
         },
         "layout": {
          "annotationdefaults": {
           "arrowcolor": "#2a3f5f",
           "arrowhead": 0,
           "arrowwidth": 1
          },
          "autotypenumbers": "strict",
          "coloraxis": {
           "colorbar": {
            "outlinewidth": 0,
            "ticks": ""
           }
          },
          "colorscale": {
           "diverging": [
            [
             0,
             "#8e0152"
            ],
            [
             0.1,
             "#c51b7d"
            ],
            [
             0.2,
             "#de77ae"
            ],
            [
             0.3,
             "#f1b6da"
            ],
            [
             0.4,
             "#fde0ef"
            ],
            [
             0.5,
             "#f7f7f7"
            ],
            [
             0.6,
             "#e6f5d0"
            ],
            [
             0.7,
             "#b8e186"
            ],
            [
             0.8,
             "#7fbc41"
            ],
            [
             0.9,
             "#4d9221"
            ],
            [
             1,
             "#276419"
            ]
           ],
           "sequential": [
            [
             0,
             "#0d0887"
            ],
            [
             0.1111111111111111,
             "#46039f"
            ],
            [
             0.2222222222222222,
             "#7201a8"
            ],
            [
             0.3333333333333333,
             "#9c179e"
            ],
            [
             0.4444444444444444,
             "#bd3786"
            ],
            [
             0.5555555555555556,
             "#d8576b"
            ],
            [
             0.6666666666666666,
             "#ed7953"
            ],
            [
             0.7777777777777778,
             "#fb9f3a"
            ],
            [
             0.8888888888888888,
             "#fdca26"
            ],
            [
             1,
             "#f0f921"
            ]
           ],
           "sequentialminus": [
            [
             0,
             "#0d0887"
            ],
            [
             0.1111111111111111,
             "#46039f"
            ],
            [
             0.2222222222222222,
             "#7201a8"
            ],
            [
             0.3333333333333333,
             "#9c179e"
            ],
            [
             0.4444444444444444,
             "#bd3786"
            ],
            [
             0.5555555555555556,
             "#d8576b"
            ],
            [
             0.6666666666666666,
             "#ed7953"
            ],
            [
             0.7777777777777778,
             "#fb9f3a"
            ],
            [
             0.8888888888888888,
             "#fdca26"
            ],
            [
             1,
             "#f0f921"
            ]
           ]
          },
          "colorway": [
           "#636efa",
           "#EF553B",
           "#00cc96",
           "#ab63fa",
           "#FFA15A",
           "#19d3f3",
           "#FF6692",
           "#B6E880",
           "#FF97FF",
           "#FECB52"
          ],
          "font": {
           "color": "#2a3f5f"
          },
          "geo": {
           "bgcolor": "white",
           "lakecolor": "white",
           "landcolor": "#E5ECF6",
           "showlakes": true,
           "showland": true,
           "subunitcolor": "white"
          },
          "hoverlabel": {
           "align": "left"
          },
          "hovermode": "closest",
          "mapbox": {
           "style": "light"
          },
          "paper_bgcolor": "white",
          "plot_bgcolor": "#E5ECF6",
          "polar": {
           "angularaxis": {
            "gridcolor": "white",
            "linecolor": "white",
            "ticks": ""
           },
           "bgcolor": "#E5ECF6",
           "radialaxis": {
            "gridcolor": "white",
            "linecolor": "white",
            "ticks": ""
           }
          },
          "scene": {
           "xaxis": {
            "backgroundcolor": "#E5ECF6",
            "gridcolor": "white",
            "gridwidth": 2,
            "linecolor": "white",
            "showbackground": true,
            "ticks": "",
            "zerolinecolor": "white"
           },
           "yaxis": {
            "backgroundcolor": "#E5ECF6",
            "gridcolor": "white",
            "gridwidth": 2,
            "linecolor": "white",
            "showbackground": true,
            "ticks": "",
            "zerolinecolor": "white"
           },
           "zaxis": {
            "backgroundcolor": "#E5ECF6",
            "gridcolor": "white",
            "gridwidth": 2,
            "linecolor": "white",
            "showbackground": true,
            "ticks": "",
            "zerolinecolor": "white"
           }
          },
          "shapedefaults": {
           "line": {
            "color": "#2a3f5f"
           }
          },
          "ternary": {
           "aaxis": {
            "gridcolor": "white",
            "linecolor": "white",
            "ticks": ""
           },
           "baxis": {
            "gridcolor": "white",
            "linecolor": "white",
            "ticks": ""
           },
           "bgcolor": "#E5ECF6",
           "caxis": {
            "gridcolor": "white",
            "linecolor": "white",
            "ticks": ""
           }
          },
          "title": {
           "x": 0.05
          },
          "xaxis": {
           "automargin": true,
           "gridcolor": "white",
           "linecolor": "white",
           "ticks": "",
           "title": {
            "standoff": 15
           },
           "zerolinecolor": "white",
           "zerolinewidth": 2
          },
          "yaxis": {
           "automargin": true,
           "gridcolor": "white",
           "linecolor": "white",
           "ticks": "",
           "title": {
            "standoff": 15
           },
           "zerolinecolor": "white",
           "zerolinewidth": 2
          }
         }
        }
       }
      }
     },
     "metadata": {},
     "output_type": "display_data"
    }
   ],
   "source": [
    "grafico = px.scatter_matrix(df, dimensions=['LPA', \"Margem Bruta\", \"Div Liquida/EBITDA\",\"P/L\"], color='Situação')\n",
    "grafico.show()"
   ]
  },
  {
   "cell_type": "code",
   "execution_count": 9,
   "metadata": {},
   "outputs": [
    {
     "data": {
      "application/vnd.plotly.v1+json": {
       "config": {
        "plotlyServerURL": "https://plot.ly"
       },
       "data": [
        {
         "dimensions": [
          {
           "axis": {
            "matches": true
           },
           "label": "ROA",
           "values": [
            null,
            null,
            null,
            null,
            null,
            null,
            null,
            null,
            null,
            8,
            null,
            13,
            null,
            null,
            null,
            null,
            -4,
            null,
            1,
            0,
            null,
            1,
            null,
            2,
            null,
            null,
            7,
            null,
            null,
            1,
            null,
            null,
            -5,
            null,
            null,
            null,
            null,
            null,
            null,
            2,
            null,
            null,
            3,
            null,
            null,
            null,
            null,
            null,
            null,
            10,
            null,
            null,
            null,
            null,
            null,
            null,
            null,
            null,
            null,
            null,
            null,
            null,
            null,
            null,
            null,
            null,
            null,
            null,
            null,
            null,
            null,
            null,
            null,
            2,
            null,
            null,
            -19,
            null,
            null,
            null,
            null,
            8,
            null,
            7,
            2,
            null,
            null,
            null,
            null,
            null,
            null,
            null,
            null,
            null,
            null,
            null,
            null,
            null,
            null,
            null,
            null,
            7,
            null,
            null,
            null,
            null,
            11,
            null,
            null,
            null,
            null,
            null,
            null,
            null,
            null,
            null,
            null,
            null,
            null,
            null,
            null,
            null,
            null,
            135,
            null,
            null,
            9,
            6,
            null,
            null,
            null,
            null,
            null,
            null,
            null,
            4,
            null,
            null,
            null,
            7,
            null,
            3,
            null,
            3,
            null,
            null,
            null,
            null,
            8,
            4,
            null,
            null,
            null,
            null,
            null,
            null,
            null,
            null,
            null,
            null,
            null,
            null,
            5,
            null,
            6,
            null,
            7,
            null,
            33,
            null,
            null,
            null,
            null,
            null,
            null,
            null,
            null,
            null,
            null,
            null,
            1,
            3,
            null,
            null,
            null,
            5,
            null,
            null
           ]
          },
          {
           "axis": {
            "matches": true
           },
           "label": "ROE",
           "values": [
            20.66,
            25,
            22,
            6,
            29,
            null,
            285.43,
            67,
            null,
            20,
            10,
            8,
            4,
            100,
            12,
            27,
            0,
            6,
            8,
            3,
            10,
            5,
            null,
            10,
            13,
            0,
            9,
            9,
            null,
            16,
            null,
            25,
            8,
            null,
            null,
            101,
            14,
            null,
            null,
            12,
            25,
            null,
            3,
            7,
            2,
            null,
            5,
            8,
            null,
            27,
            null,
            9,
            null,
            null,
            22,
            11,
            6,
            11,
            4,
            20,
            27,
            6,
            6,
            2,
            null,
            null,
            5,
            null,
            9,
            12,
            8,
            7,
            9,
            8,
            9,
            8,
            3,
            4,
            12,
            null,
            13,
            7,
            13,
            11,
            11,
            6,
            1,
            null,
            null,
            null,
            188,
            null,
            null,
            null,
            5,
            2,
            21,
            9,
            6,
            null,
            6,
            6,
            18,
            16,
            2,
            12,
            23,
            17,
            72,
            60,
            11,
            20,
            8,
            null,
            9,
            15,
            7,
            13,
            3,
            13,
            14,
            15,
            null,
            2,
            22,
            10,
            14,
            5,
            12,
            7,
            null,
            24,
            21,
            19,
            null,
            14,
            8,
            3,
            11,
            39,
            null,
            7,
            12,
            5,
            27,
            null,
            20,
            null,
            1,
            16,
            null,
            null,
            8,
            16,
            20,
            null,
            null,
            14,
            3,
            2,
            22,
            16,
            2,
            4,
            9,
            2,
            14,
            42,
            187,
            null,
            null,
            19,
            null,
            8,
            9,
            51,
            null,
            8,
            6,
            7,
            2,
            21,
            4,
            41,
            2,
            24,
            5,
            null
           ]
          },
          {
           "axis": {
            "matches": true
           },
           "label": "LPA",
           "values": [
            0.57,
            0.16,
            0.21,
            0.6,
            0.44,
            -1.98,
            0.44,
            0.04,
            null,
            0.35,
            null,
            0.51,
            -63.13,
            0.13,
            1.53,
            14.8,
            -0.75,
            0.07,
            2.26,
            -0.26,
            -0.12,
            0.34,
            1.09,
            0.1,
            -0.66,
            -5.61,
            -0.45,
            -0.82,
            -3.51,
            1.23,
            -1.47,
            null,
            -3.4,
            null,
            0.15,
            -8.56,
            null,
            0,
            -0.82,
            -0.26,
            0.16,
            -0.05,
            0.93,
            1.88,
            0.04,
            -0.2,
            -9.8,
            null,
            -17.71,
            1,
            -2.48,
            -0.08,
            null,
            -9.39,
            0.66,
            null,
            1.29,
            -0.75,
            -2.94,
            -17.68,
            0.37,
            -0.7,
            null,
            null,
            -33.84,
            -22.43,
            0.25,
            null,
            1.94,
            -0.89,
            -0.35,
            null,
            1.62,
            0.8,
            0.12,
            0.39,
            null,
            0.1,
            0.8,
            -0.81,
            -15.14,
            3,
            -1.59,
            0.29,
            -41.44,
            -7.26,
            null,
            null,
            0.25,
            160.78,
            null,
            -1.31,
            -14.93,
            -2.4,
            -8.97,
            -0.62,
            -31.24,
            null,
            6.77,
            null,
            -1.7,
            0.26,
            -1.07,
            -0.9,
            null,
            -15.63,
            2.01,
            4.02,
            null,
            -0.24,
            0.75,
            null,
            0.86,
            -0.01,
            -1.02,
            -40.06,
            -0.72,
            0.5,
            -17.76,
            1.86,
            200.66,
            0.85,
            -1.55,
            63.65,
            0.87,
            -4.44,
            null,
            0.19,
            null,
            0.46,
            -4.38,
            -179.77,
            null,
            null,
            -313.53,
            -8.62,
            0.42,
            -40.04,
            null,
            0.01,
            -0.09,
            0.1,
            null,
            0.58,
            null,
            -1.13,
            0.1,
            -7.14,
            -3.05,
            -0.15,
            -0.01,
            null,
            -1.71,
            null,
            0,
            -730.91,
            null,
            0.49,
            0,
            -806.67,
            -2.44,
            -8.3,
            -0.12,
            -6.87,
            0.92,
            null,
            0.39,
            -2.08,
            0.14,
            -6.81,
            -58.01,
            0.15,
            -258.37,
            -5.77,
            -11.92,
            null,
            -19.96,
            0.87,
            1.54,
            0.04,
            -0.25,
            -0.36,
            -60.96,
            0.19,
            -4.79,
            0.21,
            -0.52,
            null
           ]
          }
         ],
         "hovertemplate": "Situação=ruim<br>%{xaxis.title.text}=%{x}<br>%{yaxis.title.text}=%{y}<extra></extra>",
         "legendgroup": "ruim",
         "marker": {
          "color": "#636efa",
          "symbol": "circle"
         },
         "name": "ruim",
         "showlegend": true,
         "type": "splom"
        },
        {
         "dimensions": [
          {
           "axis": {
            "matches": true
           },
           "label": "ROA",
           "values": [
            20,
            8,
            11,
            17,
            20,
            11,
            null,
            2,
            1,
            1,
            null,
            5,
            1,
            null,
            null,
            6,
            4,
            4,
            40,
            1,
            15,
            10,
            null,
            8,
            11,
            null,
            null,
            6,
            15,
            null,
            7,
            null,
            9,
            5,
            9,
            null,
            14,
            null,
            8,
            7,
            null,
            13,
            3,
            null,
            13,
            null,
            null,
            null,
            null,
            12,
            null,
            null,
            6,
            null,
            8,
            16,
            9,
            94,
            null,
            null,
            6,
            7,
            2,
            15,
            5,
            9,
            7,
            9,
            15,
            6,
            12,
            8,
            null,
            null,
            4,
            8,
            22,
            15,
            null,
            2,
            null,
            null,
            12,
            12,
            4,
            5,
            28,
            13,
            7,
            5,
            8,
            16,
            13,
            10,
            9,
            null,
            8,
            null,
            null
           ]
          },
          {
           "axis": {
            "matches": true
           },
           "label": "ROE",
           "values": [
            37,
            7,
            16,
            26,
            28,
            16,
            2,
            17,
            17,
            19,
            22,
            23,
            8,
            12,
            7,
            6,
            10,
            7,
            45,
            5,
            30,
            4,
            29,
            21,
            23,
            23,
            29,
            7,
            28,
            12,
            8,
            4,
            13,
            10,
            10,
            17,
            97,
            9,
            12,
            15,
            1,
            14,
            12,
            14,
            45.29,
            7,
            7,
            16,
            10,
            23,
            27,
            8,
            15,
            44,
            19,
            25,
            8,
            81,
            6,
            12,
            13,
            6,
            20,
            17,
            12,
            11,
            13,
            26,
            26,
            32,
            19,
            38,
            6,
            11,
            14,
            8,
            27.75,
            20,
            null,
            10,
            14,
            6,
            9,
            10,
            9,
            21,
            79,
            26,
            14,
            11,
            18,
            19,
            16,
            13.71,
            13,
            6,
            17,
            null,
            11
           ]
          },
          {
           "axis": {
            "matches": true
           },
           "label": "LPA",
           "values": [
            0.18,
            -0.05,
            0.76,
            1.31,
            0.83,
            0.92,
            0.25,
            2.14,
            2.72,
            2.77,
            4.32,
            null,
            0.99,
            24.19,
            0.26,
            0.7,
            0.35,
            null,
            2.01,
            null,
            0.81,
            2.6,
            1.12,
            0.27,
            5.05,
            2.44,
            1.23,
            0.79,
            7.08,
            -12.8,
            3.46,
            5.21,
            4.31,
            3.42,
            1.24,
            5.99,
            1.54,
            null,
            3.41,
            0.86,
            -0.1,
            0.84,
            0.61,
            0.43,
            1.47,
            -0.43,
            0.08,
            9.87,
            null,
            -1.7,
            1.91,
            0.42,
            4.39,
            1.15,
            1.41,
            2.37,
            1.46,
            0.93,
            -1.68,
            3.07,
            5.1,
            1.86,
            3.58,
            1.11,
            0.52,
            1.15,
            -1.53,
            0.02,
            0.97,
            0.42,
            2.31,
            4.02,
            -3.23,
            7.84,
            1.29,
            1.48,
            0.41,
            18.35,
            -0.63,
            -1,
            2.82,
            -0.28,
            1.49,
            1.41,
            -0.79,
            0.68,
            4.73,
            1.79,
            -1.67,
            2.42,
            0.8,
            0.78,
            2.82,
            1.21,
            2.84,
            1.49,
            0.7,
            -34.5,
            null
           ]
          }
         ],
         "hovertemplate": "Situação=boa<br>%{xaxis.title.text}=%{x}<br>%{yaxis.title.text}=%{y}<extra></extra>",
         "legendgroup": "boa",
         "marker": {
          "color": "#EF553B",
          "symbol": "circle"
         },
         "name": "boa",
         "showlegend": true,
         "type": "splom"
        },
        {
         "dimensions": [
          {
           "axis": {
            "matches": true
           },
           "label": "ROA",
           "values": [
            null,
            4,
            null,
            1,
            1,
            2,
            1,
            null,
            8,
            null,
            null,
            14,
            1,
            3,
            null,
            null,
            null,
            null,
            null,
            null,
            null,
            12,
            null,
            null,
            null,
            28,
            null,
            null,
            2,
            3,
            null,
            11,
            3,
            null,
            null,
            11,
            10,
            2,
            4,
            8,
            null,
            12,
            7,
            2,
            8,
            7,
            null,
            18,
            null,
            5,
            null,
            null,
            1,
            null,
            6,
            null,
            4,
            null,
            null,
            null,
            null,
            30,
            5.5,
            14,
            8,
            null,
            2,
            null,
            1,
            null,
            0,
            null,
            3,
            1,
            10,
            6,
            null,
            11,
            3,
            7,
            1,
            null,
            2,
            null,
            null,
            6,
            6,
            4,
            7
           ]
          },
          {
           "axis": {
            "matches": true
           },
           "label": "ROE",
           "values": [
            17,
            23,
            39,
            7,
            8,
            13,
            15,
            18,
            13,
            15,
            3,
            6,
            21,
            9.17,
            null,
            25,
            9,
            20,
            81,
            23,
            1,
            33,
            98,
            49,
            10,
            17,
            6,
            7,
            14.43,
            8,
            7,
            11,
            18,
            11,
            16,
            14,
            19,
            12,
            4,
            20,
            null,
            20,
            36,
            16,
            8,
            11,
            18,
            23,
            9,
            13,
            6,
            9,
            12,
            7,
            9,
            null,
            18,
            16,
            2,
            100,
            18,
            132,
            3.81,
            57,
            15,
            9,
            14,
            12,
            12,
            21,
            17,
            9,
            7,
            13,
            15,
            6,
            5,
            2.34,
            3,
            11,
            15,
            null,
            16,
            17,
            16,
            10,
            10,
            12,
            17
           ]
          },
          {
           "axis": {
            "matches": true
           },
           "label": "LPA",
           "values": [
            2.25,
            -1.42,
            3.31,
            1.03,
            4.42,
            1.69,
            1.61,
            8.48,
            1.8,
            -12.26,
            0.67,
            2.5,
            4.16,
            -4.04,
            44.06,
            1.62,
            9.29,
            0.95,
            -53.1,
            8.78,
            -0.55,
            1.23,
            40.31,
            -43.19,
            0.26,
            30.04,
            -0.9,
            0.29,
            -0.01,
            0.04,
            0.56,
            1.37,
            0.13,
            -31.58,
            0.2,
            1.16,
            -0.21,
            0.18,
            -0.46,
            0.21,
            -4.47,
            2.11,
            0.26,
            -0.32,
            0.93,
            0.64,
            -0.46,
            0.78,
            -6.09,
            -0.48,
            2.83,
            -0.91,
            -0.84,
            8.92,
            0.03,
            -3.83,
            0.24,
            -0.43,
            -41.43,
            -27.44,
            -0.56,
            3.17,
            0.59,
            1.31,
            -0.09,
            0.86,
            1.6,
            0.42,
            -110.4,
            -1.51,
            -0.03,
            -30.78,
            -0.28,
            -0.03,
            1.33,
            0.53,
            -2.7,
            -1.87,
            0.16,
            3.25,
            0.61,
            -8.26,
            -0.03,
            0.15,
            -19.93,
            0.31,
            -1.26,
            0,
            1.36
           ]
          }
         ],
         "hovertemplate": "Situação=medio<br>%{xaxis.title.text}=%{x}<br>%{yaxis.title.text}=%{y}<extra></extra>",
         "legendgroup": "medio",
         "marker": {
          "color": "#00cc96",
          "symbol": "circle"
         },
         "name": "medio",
         "showlegend": true,
         "type": "splom"
        }
       ],
       "layout": {
        "dragmode": "select",
        "legend": {
         "title": {
          "text": "Situação"
         },
         "tracegroupgap": 0
        },
        "margin": {
         "t": 60
        },
        "template": {
         "data": {
          "bar": [
           {
            "error_x": {
             "color": "#2a3f5f"
            },
            "error_y": {
             "color": "#2a3f5f"
            },
            "marker": {
             "line": {
              "color": "#E5ECF6",
              "width": 0.5
             },
             "pattern": {
              "fillmode": "overlay",
              "size": 10,
              "solidity": 0.2
             }
            },
            "type": "bar"
           }
          ],
          "barpolar": [
           {
            "marker": {
             "line": {
              "color": "#E5ECF6",
              "width": 0.5
             },
             "pattern": {
              "fillmode": "overlay",
              "size": 10,
              "solidity": 0.2
             }
            },
            "type": "barpolar"
           }
          ],
          "carpet": [
           {
            "aaxis": {
             "endlinecolor": "#2a3f5f",
             "gridcolor": "white",
             "linecolor": "white",
             "minorgridcolor": "white",
             "startlinecolor": "#2a3f5f"
            },
            "baxis": {
             "endlinecolor": "#2a3f5f",
             "gridcolor": "white",
             "linecolor": "white",
             "minorgridcolor": "white",
             "startlinecolor": "#2a3f5f"
            },
            "type": "carpet"
           }
          ],
          "choropleth": [
           {
            "colorbar": {
             "outlinewidth": 0,
             "ticks": ""
            },
            "type": "choropleth"
           }
          ],
          "contour": [
           {
            "colorbar": {
             "outlinewidth": 0,
             "ticks": ""
            },
            "colorscale": [
             [
              0,
              "#0d0887"
             ],
             [
              0.1111111111111111,
              "#46039f"
             ],
             [
              0.2222222222222222,
              "#7201a8"
             ],
             [
              0.3333333333333333,
              "#9c179e"
             ],
             [
              0.4444444444444444,
              "#bd3786"
             ],
             [
              0.5555555555555556,
              "#d8576b"
             ],
             [
              0.6666666666666666,
              "#ed7953"
             ],
             [
              0.7777777777777778,
              "#fb9f3a"
             ],
             [
              0.8888888888888888,
              "#fdca26"
             ],
             [
              1,
              "#f0f921"
             ]
            ],
            "type": "contour"
           }
          ],
          "contourcarpet": [
           {
            "colorbar": {
             "outlinewidth": 0,
             "ticks": ""
            },
            "type": "contourcarpet"
           }
          ],
          "heatmap": [
           {
            "colorbar": {
             "outlinewidth": 0,
             "ticks": ""
            },
            "colorscale": [
             [
              0,
              "#0d0887"
             ],
             [
              0.1111111111111111,
              "#46039f"
             ],
             [
              0.2222222222222222,
              "#7201a8"
             ],
             [
              0.3333333333333333,
              "#9c179e"
             ],
             [
              0.4444444444444444,
              "#bd3786"
             ],
             [
              0.5555555555555556,
              "#d8576b"
             ],
             [
              0.6666666666666666,
              "#ed7953"
             ],
             [
              0.7777777777777778,
              "#fb9f3a"
             ],
             [
              0.8888888888888888,
              "#fdca26"
             ],
             [
              1,
              "#f0f921"
             ]
            ],
            "type": "heatmap"
           }
          ],
          "heatmapgl": [
           {
            "colorbar": {
             "outlinewidth": 0,
             "ticks": ""
            },
            "colorscale": [
             [
              0,
              "#0d0887"
             ],
             [
              0.1111111111111111,
              "#46039f"
             ],
             [
              0.2222222222222222,
              "#7201a8"
             ],
             [
              0.3333333333333333,
              "#9c179e"
             ],
             [
              0.4444444444444444,
              "#bd3786"
             ],
             [
              0.5555555555555556,
              "#d8576b"
             ],
             [
              0.6666666666666666,
              "#ed7953"
             ],
             [
              0.7777777777777778,
              "#fb9f3a"
             ],
             [
              0.8888888888888888,
              "#fdca26"
             ],
             [
              1,
              "#f0f921"
             ]
            ],
            "type": "heatmapgl"
           }
          ],
          "histogram": [
           {
            "marker": {
             "pattern": {
              "fillmode": "overlay",
              "size": 10,
              "solidity": 0.2
             }
            },
            "type": "histogram"
           }
          ],
          "histogram2d": [
           {
            "colorbar": {
             "outlinewidth": 0,
             "ticks": ""
            },
            "colorscale": [
             [
              0,
              "#0d0887"
             ],
             [
              0.1111111111111111,
              "#46039f"
             ],
             [
              0.2222222222222222,
              "#7201a8"
             ],
             [
              0.3333333333333333,
              "#9c179e"
             ],
             [
              0.4444444444444444,
              "#bd3786"
             ],
             [
              0.5555555555555556,
              "#d8576b"
             ],
             [
              0.6666666666666666,
              "#ed7953"
             ],
             [
              0.7777777777777778,
              "#fb9f3a"
             ],
             [
              0.8888888888888888,
              "#fdca26"
             ],
             [
              1,
              "#f0f921"
             ]
            ],
            "type": "histogram2d"
           }
          ],
          "histogram2dcontour": [
           {
            "colorbar": {
             "outlinewidth": 0,
             "ticks": ""
            },
            "colorscale": [
             [
              0,
              "#0d0887"
             ],
             [
              0.1111111111111111,
              "#46039f"
             ],
             [
              0.2222222222222222,
              "#7201a8"
             ],
             [
              0.3333333333333333,
              "#9c179e"
             ],
             [
              0.4444444444444444,
              "#bd3786"
             ],
             [
              0.5555555555555556,
              "#d8576b"
             ],
             [
              0.6666666666666666,
              "#ed7953"
             ],
             [
              0.7777777777777778,
              "#fb9f3a"
             ],
             [
              0.8888888888888888,
              "#fdca26"
             ],
             [
              1,
              "#f0f921"
             ]
            ],
            "type": "histogram2dcontour"
           }
          ],
          "mesh3d": [
           {
            "colorbar": {
             "outlinewidth": 0,
             "ticks": ""
            },
            "type": "mesh3d"
           }
          ],
          "parcoords": [
           {
            "line": {
             "colorbar": {
              "outlinewidth": 0,
              "ticks": ""
             }
            },
            "type": "parcoords"
           }
          ],
          "pie": [
           {
            "automargin": true,
            "type": "pie"
           }
          ],
          "scatter": [
           {
            "fillpattern": {
             "fillmode": "overlay",
             "size": 10,
             "solidity": 0.2
            },
            "type": "scatter"
           }
          ],
          "scatter3d": [
           {
            "line": {
             "colorbar": {
              "outlinewidth": 0,
              "ticks": ""
             }
            },
            "marker": {
             "colorbar": {
              "outlinewidth": 0,
              "ticks": ""
             }
            },
            "type": "scatter3d"
           }
          ],
          "scattercarpet": [
           {
            "marker": {
             "colorbar": {
              "outlinewidth": 0,
              "ticks": ""
             }
            },
            "type": "scattercarpet"
           }
          ],
          "scattergeo": [
           {
            "marker": {
             "colorbar": {
              "outlinewidth": 0,
              "ticks": ""
             }
            },
            "type": "scattergeo"
           }
          ],
          "scattergl": [
           {
            "marker": {
             "colorbar": {
              "outlinewidth": 0,
              "ticks": ""
             }
            },
            "type": "scattergl"
           }
          ],
          "scattermapbox": [
           {
            "marker": {
             "colorbar": {
              "outlinewidth": 0,
              "ticks": ""
             }
            },
            "type": "scattermapbox"
           }
          ],
          "scatterpolar": [
           {
            "marker": {
             "colorbar": {
              "outlinewidth": 0,
              "ticks": ""
             }
            },
            "type": "scatterpolar"
           }
          ],
          "scatterpolargl": [
           {
            "marker": {
             "colorbar": {
              "outlinewidth": 0,
              "ticks": ""
             }
            },
            "type": "scatterpolargl"
           }
          ],
          "scatterternary": [
           {
            "marker": {
             "colorbar": {
              "outlinewidth": 0,
              "ticks": ""
             }
            },
            "type": "scatterternary"
           }
          ],
          "surface": [
           {
            "colorbar": {
             "outlinewidth": 0,
             "ticks": ""
            },
            "colorscale": [
             [
              0,
              "#0d0887"
             ],
             [
              0.1111111111111111,
              "#46039f"
             ],
             [
              0.2222222222222222,
              "#7201a8"
             ],
             [
              0.3333333333333333,
              "#9c179e"
             ],
             [
              0.4444444444444444,
              "#bd3786"
             ],
             [
              0.5555555555555556,
              "#d8576b"
             ],
             [
              0.6666666666666666,
              "#ed7953"
             ],
             [
              0.7777777777777778,
              "#fb9f3a"
             ],
             [
              0.8888888888888888,
              "#fdca26"
             ],
             [
              1,
              "#f0f921"
             ]
            ],
            "type": "surface"
           }
          ],
          "table": [
           {
            "cells": {
             "fill": {
              "color": "#EBF0F8"
             },
             "line": {
              "color": "white"
             }
            },
            "header": {
             "fill": {
              "color": "#C8D4E3"
             },
             "line": {
              "color": "white"
             }
            },
            "type": "table"
           }
          ]
         },
         "layout": {
          "annotationdefaults": {
           "arrowcolor": "#2a3f5f",
           "arrowhead": 0,
           "arrowwidth": 1
          },
          "autotypenumbers": "strict",
          "coloraxis": {
           "colorbar": {
            "outlinewidth": 0,
            "ticks": ""
           }
          },
          "colorscale": {
           "diverging": [
            [
             0,
             "#8e0152"
            ],
            [
             0.1,
             "#c51b7d"
            ],
            [
             0.2,
             "#de77ae"
            ],
            [
             0.3,
             "#f1b6da"
            ],
            [
             0.4,
             "#fde0ef"
            ],
            [
             0.5,
             "#f7f7f7"
            ],
            [
             0.6,
             "#e6f5d0"
            ],
            [
             0.7,
             "#b8e186"
            ],
            [
             0.8,
             "#7fbc41"
            ],
            [
             0.9,
             "#4d9221"
            ],
            [
             1,
             "#276419"
            ]
           ],
           "sequential": [
            [
             0,
             "#0d0887"
            ],
            [
             0.1111111111111111,
             "#46039f"
            ],
            [
             0.2222222222222222,
             "#7201a8"
            ],
            [
             0.3333333333333333,
             "#9c179e"
            ],
            [
             0.4444444444444444,
             "#bd3786"
            ],
            [
             0.5555555555555556,
             "#d8576b"
            ],
            [
             0.6666666666666666,
             "#ed7953"
            ],
            [
             0.7777777777777778,
             "#fb9f3a"
            ],
            [
             0.8888888888888888,
             "#fdca26"
            ],
            [
             1,
             "#f0f921"
            ]
           ],
           "sequentialminus": [
            [
             0,
             "#0d0887"
            ],
            [
             0.1111111111111111,
             "#46039f"
            ],
            [
             0.2222222222222222,
             "#7201a8"
            ],
            [
             0.3333333333333333,
             "#9c179e"
            ],
            [
             0.4444444444444444,
             "#bd3786"
            ],
            [
             0.5555555555555556,
             "#d8576b"
            ],
            [
             0.6666666666666666,
             "#ed7953"
            ],
            [
             0.7777777777777778,
             "#fb9f3a"
            ],
            [
             0.8888888888888888,
             "#fdca26"
            ],
            [
             1,
             "#f0f921"
            ]
           ]
          },
          "colorway": [
           "#636efa",
           "#EF553B",
           "#00cc96",
           "#ab63fa",
           "#FFA15A",
           "#19d3f3",
           "#FF6692",
           "#B6E880",
           "#FF97FF",
           "#FECB52"
          ],
          "font": {
           "color": "#2a3f5f"
          },
          "geo": {
           "bgcolor": "white",
           "lakecolor": "white",
           "landcolor": "#E5ECF6",
           "showlakes": true,
           "showland": true,
           "subunitcolor": "white"
          },
          "hoverlabel": {
           "align": "left"
          },
          "hovermode": "closest",
          "mapbox": {
           "style": "light"
          },
          "paper_bgcolor": "white",
          "plot_bgcolor": "#E5ECF6",
          "polar": {
           "angularaxis": {
            "gridcolor": "white",
            "linecolor": "white",
            "ticks": ""
           },
           "bgcolor": "#E5ECF6",
           "radialaxis": {
            "gridcolor": "white",
            "linecolor": "white",
            "ticks": ""
           }
          },
          "scene": {
           "xaxis": {
            "backgroundcolor": "#E5ECF6",
            "gridcolor": "white",
            "gridwidth": 2,
            "linecolor": "white",
            "showbackground": true,
            "ticks": "",
            "zerolinecolor": "white"
           },
           "yaxis": {
            "backgroundcolor": "#E5ECF6",
            "gridcolor": "white",
            "gridwidth": 2,
            "linecolor": "white",
            "showbackground": true,
            "ticks": "",
            "zerolinecolor": "white"
           },
           "zaxis": {
            "backgroundcolor": "#E5ECF6",
            "gridcolor": "white",
            "gridwidth": 2,
            "linecolor": "white",
            "showbackground": true,
            "ticks": "",
            "zerolinecolor": "white"
           }
          },
          "shapedefaults": {
           "line": {
            "color": "#2a3f5f"
           }
          },
          "ternary": {
           "aaxis": {
            "gridcolor": "white",
            "linecolor": "white",
            "ticks": ""
           },
           "baxis": {
            "gridcolor": "white",
            "linecolor": "white",
            "ticks": ""
           },
           "bgcolor": "#E5ECF6",
           "caxis": {
            "gridcolor": "white",
            "linecolor": "white",
            "ticks": ""
           }
          },
          "title": {
           "x": 0.05
          },
          "xaxis": {
           "automargin": true,
           "gridcolor": "white",
           "linecolor": "white",
           "ticks": "",
           "title": {
            "standoff": 15
           },
           "zerolinecolor": "white",
           "zerolinewidth": 2
          },
          "yaxis": {
           "automargin": true,
           "gridcolor": "white",
           "linecolor": "white",
           "ticks": "",
           "title": {
            "standoff": 15
           },
           "zerolinecolor": "white",
           "zerolinewidth": 2
          }
         }
        }
       }
      }
     },
     "metadata": {},
     "output_type": "display_data"
    }
   ],
   "source": [
    "grafico = px.scatter_matrix(df, dimensions=['ROA', \"ROE\", \"LPA\"], color='Situação')\n",
    "grafico.show()"
   ]
  },
  {
   "cell_type": "code",
   "execution_count": 30,
   "metadata": {},
   "outputs": [
    {
     "data": {
      "text/plain": [
       "Text(0, 0.5, 'Contagem')"
      ]
     },
     "execution_count": 30,
     "metadata": {},
     "output_type": "execute_result"
    },
    {
     "data": {
      "image/png": "[encoded data removed]",
      "text/plain": [
       "<Figure size 640x480 with 1 Axes>"
      ]
     },
     "metadata": {},
     "output_type": "display_data"
    }
   ],
   "source": [
    "plt.hist(x = df['Valor de M.']);\n",
    "plt.title(\"Valor de Mercado\")\n",
    "plt.ylabel('Contagem')"
   ]
  },
  {
   "cell_type": "code",
   "execution_count": 10,
   "metadata": {},
   "outputs": [
    {
     "data": {
      "image/png": "[encoded data removed]",
      "text/plain": [
       "<Figure size 640x480 with 1 Axes>"
      ]
     },
     "metadata": {},
     "output_type": "display_data"
    }
   ],
   "source": [
    "plt.hist(x = df['LPA']);\n",
    "plt.title(\"Valor de Mercado\")\n",
    "plt.ylabel('Contagem')\n"
   ]
  },
  {
   "cell_type": "code",
   "execution_count": 31,
   "metadata": {},
   "outputs": [
    {
     "data": {
      "text/plain": [
       "Text(0, 0.5, 'Contagem')"
      ]
     },
     "execution_count": 31,
     "metadata": {},
     "output_type": "execute_result"
    },
    {
     "data": {
      "image/png": "[encoded data removed]",
      "text/plain": [
       "<Figure size 640x480 with 1 Axes>"
      ]
     },
     "metadata": {},
     "output_type": "display_data"
    }
   ],
   "source": [
    "plt.hist(x = df['LPA']);\n",
    "plt.title(\"Lucro por Ação\")\n",
    "plt.ylabel('Contagem')\n"
   ]
  },
  {
   "cell_type": "code",
   "execution_count": 23,
   "metadata": {},
   "outputs": [
    {
     "data": {
      "image/png": "[encoded data removed]",
      "text/plain": [
       "<Figure size 640x480 with 1 Axes>"
      ]
     },
     "metadata": {},
     "output_type": "display_data"
    }
   ],
   "source": [
    "plt.hist(x = df['P/L']);"
   ]
  }
 ],
 "metadata": {
  "kernelspec": {
   "display_name": "Python 3.10.7 64-bit",
   "language": "python",
   "name": "python3"
  },
  "language_info": {
   "codemirror_mode": {
    "name": "ipython",
    "version": 3
   },
   "file_extension": ".py",
   "mimetype": "text/x-python",
   "name": "python",
   "nbconvert_exporter": "python",
   "pygments_lexer": "ipython3",
   "version": "3.10.7"
  },
  "orig_nbformat": 4,
  "vscode": {
   "interpreter": {
    "hash": "369f2c481f4da34e4445cda3fffd2e751bd1c4d706f27375911949ba6bb62e1c"
   }
  }
 },
 "nbformat": 4,
 "nbformat_minor": 2
}
