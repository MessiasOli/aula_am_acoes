{
 "cells": [
  {
   "cell_type": "markdown",
   "metadata": {},
   "source": [
    "Analise dos dados."
   ]
  },
  {
   "cell_type": "code",
   "execution_count": 1,
   "metadata": {},
   "outputs": [
    {
     "name": "stdout",
     "output_type": "stream",
     "text": [
      "  Situação            Empresa          Segmento   Valor de M.            EV  \\\n",
      "0     ruim      aes elpa s.a   energia eletrica  1.334627e+09  4.391657e+09   \n",
      "1      boa     tiet aes tiete  energia eletrica  1.519060e+10           NaN   \n",
      "2     ruim      aflu afluente  energia eletrica  9.465319e+07  8.565319e+07   \n",
      "3     ruim    aflu afluente t  energia eletrica  2.819886e+08  2.439886e+08   \n",
      "4     ruim  rpad alfa holding            bancos  2.887665e+08  2.857665e+08   \n",
      "\n",
      "                                          Majoritar.  Pes. Fisicas  \\\n",
      "0                  Brasiliana Participaçoes (98,26%)       15969.0   \n",
      "1                 Aes Holdings Brasil ltda. (61,57%)       18681.0   \n",
      "2  contour global do brasil participações ltda (9...        1898.0   \n",
      "3                             neoenergia s.a (87,84)           8.0   \n",
      "4               admistradora fortaliza ltda (89,14%)       11290.0   \n",
      "\n",
      "              Categoria   LPA  LPA desconctado  ...    FCO    FCI    FCF  \\\n",
      "0                alerta  0.57             0.56  ...    NaN    NaN    NaN   \n",
      "1            dividendos  0.18             0.18  ...  836.0 -126.0 -728.0   \n",
      "2                alerta  0.16             0.15  ...    NaN    NaN    NaN   \n",
      "3                alerta  0.21             0.20  ...    NaN    NaN    NaN   \n",
      "4  crescimento moderado  0.60             0.60  ...    NaN    NaN    NaN   \n",
      "\n",
      "    FCT    FCL  FCI/LL  CAPEX  FCL CAPEX  CAPEX/LL  CAPEX/FCO  \n",
      "0   NaN    NaN     NaN    NaN        NaN       NaN        NaN  \n",
      "1 -18.0  710.0    0.68 -139.0      696.0      26.0       17.0  \n",
      "2   NaN    NaN     NaN    NaN        NaN       NaN        NaN  \n",
      "3   NaN    NaN     NaN    NaN        NaN       NaN        NaN  \n",
      "4   NaN    NaN     NaN    NaN        NaN       NaN        NaN  \n",
      "\n",
      "[5 rows x 70 columns]\n"
     ]
    }
   ],
   "source": [
    "import pandas as pd\n",
    "\n",
    "# Caminho do arquivo Excel\n",
    "arquivo_excel = 'BD Completo.xlsx'\n",
    "\n",
    "# Ler o arquivo Excel e transformar em um DataFrame\n",
    "df = pd.read_excel(arquivo_excel)\n",
    "\n",
    "# Exibir as primeiras linhas do DataFrame\n",
    "print(df.head())\n"
   ]
  }
 ],
 "metadata": {
  "kernelspec": {
   "display_name": "Python 3.10.7 64-bit",
   "language": "python",
   "name": "python3"
  },
  "language_info": {
   "codemirror_mode": {
    "name": "ipython",
    "version": 3
   },
   "file_extension": ".py",
   "mimetype": "text/x-python",
   "name": "python",
   "nbconvert_exporter": "python",
   "pygments_lexer": "ipython3",
   "version": "3.10.7"
  },
  "orig_nbformat": 4,
  "vscode": {
   "interpreter": {
    "hash": "369f2c481f4da34e4445cda3fffd2e751bd1c4d706f27375911949ba6bb62e1c"
   }
  }
 },
 "nbformat": 4,
 "nbformat_minor": 2
}
